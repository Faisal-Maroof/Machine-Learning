{
 "cells": [
  {
   "cell_type": "code",
   "execution_count": 1,
   "id": "95d8ab33",
   "metadata": {},
   "outputs": [],
   "source": [
    "import pandas as pd\n",
    "import numpy as np\n",
    "import scipy as stats\n",
    "import matplotlib.pyplot as plt\n",
    "import seaborn as sns"
   ]
  },
  {
   "cell_type": "code",
   "execution_count": 2,
   "id": "04bb2f61",
   "metadata": {},
   "outputs": [],
   "source": [
    "google=pd.read_csv('google_review_ratings.csv')"
   ]
  },
  {
   "cell_type": "code",
   "execution_count": 4,
   "id": "27d7861d",
   "metadata": {},
   "outputs": [
    {
     "data": {
      "text/html": [
       "<div>\n",
       "<style scoped>\n",
       "    .dataframe tbody tr th:only-of-type {\n",
       "        vertical-align: middle;\n",
       "    }\n",
       "\n",
       "    .dataframe tbody tr th {\n",
       "        vertical-align: top;\n",
       "    }\n",
       "\n",
       "    .dataframe thead th {\n",
       "        text-align: right;\n",
       "    }\n",
       "</style>\n",
       "<table border=\"1\" class=\"dataframe\">\n",
       "  <thead>\n",
       "    <tr style=\"text-align: right;\">\n",
       "      <th></th>\n",
       "      <th>User</th>\n",
       "      <th>Category 1</th>\n",
       "      <th>Category 2</th>\n",
       "      <th>Category 3</th>\n",
       "      <th>Category 4</th>\n",
       "      <th>Category 5</th>\n",
       "      <th>Category 6</th>\n",
       "      <th>Category 7</th>\n",
       "      <th>Category 8</th>\n",
       "      <th>Category 9</th>\n",
       "      <th>...</th>\n",
       "      <th>Category 16</th>\n",
       "      <th>Category 17</th>\n",
       "      <th>Category 18</th>\n",
       "      <th>Category 19</th>\n",
       "      <th>Category 20</th>\n",
       "      <th>Category 21</th>\n",
       "      <th>Category 22</th>\n",
       "      <th>Category 23</th>\n",
       "      <th>Category 24</th>\n",
       "      <th>Unnamed: 25</th>\n",
       "    </tr>\n",
       "  </thead>\n",
       "  <tbody>\n",
       "    <tr>\n",
       "      <th>0</th>\n",
       "      <td>User 1</td>\n",
       "      <td>0.0</td>\n",
       "      <td>0.0</td>\n",
       "      <td>3.63</td>\n",
       "      <td>3.65</td>\n",
       "      <td>5.0</td>\n",
       "      <td>2.92</td>\n",
       "      <td>5.0</td>\n",
       "      <td>2.35</td>\n",
       "      <td>2.33</td>\n",
       "      <td>...</td>\n",
       "      <td>0.59</td>\n",
       "      <td>0.5</td>\n",
       "      <td>0.0</td>\n",
       "      <td>0.5</td>\n",
       "      <td>0.0</td>\n",
       "      <td>0.0</td>\n",
       "      <td>0.0</td>\n",
       "      <td>0.0</td>\n",
       "      <td>0.0</td>\n",
       "      <td>NaN</td>\n",
       "    </tr>\n",
       "    <tr>\n",
       "      <th>1</th>\n",
       "      <td>User 2</td>\n",
       "      <td>0.0</td>\n",
       "      <td>0.0</td>\n",
       "      <td>3.63</td>\n",
       "      <td>3.65</td>\n",
       "      <td>5.0</td>\n",
       "      <td>2.92</td>\n",
       "      <td>5.0</td>\n",
       "      <td>2.64</td>\n",
       "      <td>2.33</td>\n",
       "      <td>...</td>\n",
       "      <td>0.59</td>\n",
       "      <td>0.5</td>\n",
       "      <td>0.0</td>\n",
       "      <td>0.5</td>\n",
       "      <td>0.0</td>\n",
       "      <td>0.0</td>\n",
       "      <td>0.0</td>\n",
       "      <td>0.0</td>\n",
       "      <td>0.0</td>\n",
       "      <td>NaN</td>\n",
       "    </tr>\n",
       "    <tr>\n",
       "      <th>2</th>\n",
       "      <td>User 3</td>\n",
       "      <td>0.0</td>\n",
       "      <td>0.0</td>\n",
       "      <td>3.63</td>\n",
       "      <td>3.63</td>\n",
       "      <td>5.0</td>\n",
       "      <td>2.92</td>\n",
       "      <td>5.0</td>\n",
       "      <td>2.64</td>\n",
       "      <td>2.33</td>\n",
       "      <td>...</td>\n",
       "      <td>0.59</td>\n",
       "      <td>0.5</td>\n",
       "      <td>0.0</td>\n",
       "      <td>0.5</td>\n",
       "      <td>0.0</td>\n",
       "      <td>0.0</td>\n",
       "      <td>0.0</td>\n",
       "      <td>0.0</td>\n",
       "      <td>0.0</td>\n",
       "      <td>NaN</td>\n",
       "    </tr>\n",
       "    <tr>\n",
       "      <th>3</th>\n",
       "      <td>User 4</td>\n",
       "      <td>0.0</td>\n",
       "      <td>0.5</td>\n",
       "      <td>3.63</td>\n",
       "      <td>3.63</td>\n",
       "      <td>5.0</td>\n",
       "      <td>2.92</td>\n",
       "      <td>5.0</td>\n",
       "      <td>2.35</td>\n",
       "      <td>2.33</td>\n",
       "      <td>...</td>\n",
       "      <td>0.59</td>\n",
       "      <td>0.5</td>\n",
       "      <td>0.0</td>\n",
       "      <td>0.5</td>\n",
       "      <td>0.0</td>\n",
       "      <td>0.0</td>\n",
       "      <td>0.0</td>\n",
       "      <td>0.0</td>\n",
       "      <td>0.0</td>\n",
       "      <td>NaN</td>\n",
       "    </tr>\n",
       "    <tr>\n",
       "      <th>4</th>\n",
       "      <td>User 5</td>\n",
       "      <td>0.0</td>\n",
       "      <td>0.0</td>\n",
       "      <td>3.63</td>\n",
       "      <td>3.63</td>\n",
       "      <td>5.0</td>\n",
       "      <td>2.92</td>\n",
       "      <td>5.0</td>\n",
       "      <td>2.64</td>\n",
       "      <td>2.33</td>\n",
       "      <td>...</td>\n",
       "      <td>0.59</td>\n",
       "      <td>0.5</td>\n",
       "      <td>0.0</td>\n",
       "      <td>0.5</td>\n",
       "      <td>0.0</td>\n",
       "      <td>0.0</td>\n",
       "      <td>0.0</td>\n",
       "      <td>0.0</td>\n",
       "      <td>0.0</td>\n",
       "      <td>NaN</td>\n",
       "    </tr>\n",
       "  </tbody>\n",
       "</table>\n",
       "<p>5 rows × 26 columns</p>\n",
       "</div>"
      ],
      "text/plain": [
       "     User  Category 1  Category 2  Category 3  Category 4  Category 5  \\\n",
       "0  User 1         0.0         0.0        3.63        3.65         5.0   \n",
       "1  User 2         0.0         0.0        3.63        3.65         5.0   \n",
       "2  User 3         0.0         0.0        3.63        3.63         5.0   \n",
       "3  User 4         0.0         0.5        3.63        3.63         5.0   \n",
       "4  User 5         0.0         0.0        3.63        3.63         5.0   \n",
       "\n",
       "   Category 6  Category 7  Category 8  Category 9  ...  Category 16  \\\n",
       "0        2.92         5.0        2.35        2.33  ...         0.59   \n",
       "1        2.92         5.0        2.64        2.33  ...         0.59   \n",
       "2        2.92         5.0        2.64        2.33  ...         0.59   \n",
       "3        2.92         5.0        2.35        2.33  ...         0.59   \n",
       "4        2.92         5.0        2.64        2.33  ...         0.59   \n",
       "\n",
       "  Category 17  Category 18  Category 19  Category 20  Category 21  \\\n",
       "0         0.5          0.0          0.5          0.0          0.0   \n",
       "1         0.5          0.0          0.5          0.0          0.0   \n",
       "2         0.5          0.0          0.5          0.0          0.0   \n",
       "3         0.5          0.0          0.5          0.0          0.0   \n",
       "4         0.5          0.0          0.5          0.0          0.0   \n",
       "\n",
       "   Category 22  Category 23  Category 24  Unnamed: 25  \n",
       "0          0.0          0.0          0.0          NaN  \n",
       "1          0.0          0.0          0.0          NaN  \n",
       "2          0.0          0.0          0.0          NaN  \n",
       "3          0.0          0.0          0.0          NaN  \n",
       "4          0.0          0.0          0.0          NaN  \n",
       "\n",
       "[5 rows x 26 columns]"
      ]
     },
     "execution_count": 4,
     "metadata": {},
     "output_type": "execute_result"
    }
   ],
   "source": [
    "google.head()"
   ]
  },
  {
   "cell_type": "code",
   "execution_count": 5,
   "id": "1e037003",
   "metadata": {},
   "outputs": [
    {
     "data": {
      "text/plain": [
       "User            object\n",
       "Category 1     float64\n",
       "Category 2     float64\n",
       "Category 3     float64\n",
       "Category 4     float64\n",
       "Category 5     float64\n",
       "Category 6     float64\n",
       "Category 7     float64\n",
       "Category 8     float64\n",
       "Category 9     float64\n",
       "Category 10    float64\n",
       "Category 11     object\n",
       "Category 12    float64\n",
       "Category 13    float64\n",
       "Category 14    float64\n",
       "Category 15    float64\n",
       "Category 16    float64\n",
       "Category 17    float64\n",
       "Category 18    float64\n",
       "Category 19    float64\n",
       "Category 20    float64\n",
       "Category 21    float64\n",
       "Category 22    float64\n",
       "Category 23    float64\n",
       "Category 24    float64\n",
       "Unnamed: 25    float64\n",
       "dtype: object"
      ]
     },
     "execution_count": 5,
     "metadata": {},
     "output_type": "execute_result"
    }
   ],
   "source": [
    "google.dtypes"
   ]
  },
  {
   "cell_type": "code",
   "execution_count": 6,
   "id": "9e88ae2a",
   "metadata": {},
   "outputs": [
    {
     "data": {
      "text/plain": [
       "(5456, 26)"
      ]
     },
     "execution_count": 6,
     "metadata": {},
     "output_type": "execute_result"
    }
   ],
   "source": [
    "google.shape"
   ]
  },
  {
   "cell_type": "code",
   "execution_count": 8,
   "id": "92393094",
   "metadata": {},
   "outputs": [
    {
     "name": "stdout",
     "output_type": "stream",
     "text": [
      "<class 'pandas.core.frame.DataFrame'>\n",
      "RangeIndex: 5456 entries, 0 to 5455\n",
      "Data columns (total 26 columns):\n",
      " #   Column       Non-Null Count  Dtype  \n",
      "---  ------       --------------  -----  \n",
      " 0   User         5456 non-null   object \n",
      " 1   Category 1   5456 non-null   float64\n",
      " 2   Category 2   5456 non-null   float64\n",
      " 3   Category 3   5456 non-null   float64\n",
      " 4   Category 4   5456 non-null   float64\n",
      " 5   Category 5   5456 non-null   float64\n",
      " 6   Category 6   5456 non-null   float64\n",
      " 7   Category 7   5456 non-null   float64\n",
      " 8   Category 8   5456 non-null   float64\n",
      " 9   Category 9   5456 non-null   float64\n",
      " 10  Category 10  5456 non-null   float64\n",
      " 11  Category 11  5456 non-null   object \n",
      " 12  Category 12  5455 non-null   float64\n",
      " 13  Category 13  5456 non-null   float64\n",
      " 14  Category 14  5456 non-null   float64\n",
      " 15  Category 15  5456 non-null   float64\n",
      " 16  Category 16  5456 non-null   float64\n",
      " 17  Category 17  5456 non-null   float64\n",
      " 18  Category 18  5456 non-null   float64\n",
      " 19  Category 19  5456 non-null   float64\n",
      " 20  Category 20  5456 non-null   float64\n",
      " 21  Category 21  5456 non-null   float64\n",
      " 22  Category 22  5456 non-null   float64\n",
      " 23  Category 23  5456 non-null   float64\n",
      " 24  Category 24  5455 non-null   float64\n",
      " 25  Unnamed: 25  2 non-null      float64\n",
      "dtypes: float64(24), object(2)\n",
      "memory usage: 1.1+ MB\n"
     ]
    }
   ],
   "source": [
    "google.info()"
   ]
  },
  {
   "cell_type": "code",
   "execution_count": 11,
   "id": "6ec5b1a5",
   "metadata": {},
   "outputs": [],
   "source": [
    "google_data=google"
   ]
  },
  {
   "cell_type": "code",
   "execution_count": 12,
   "id": "e2e31c91",
   "metadata": {},
   "outputs": [
    {
     "data": {
      "text/plain": [
       "(5456, 26)"
      ]
     },
     "execution_count": 12,
     "metadata": {},
     "output_type": "execute_result"
    }
   ],
   "source": [
    "google_data.shape"
   ]
  },
  {
   "cell_type": "code",
   "execution_count": 13,
   "id": "48e912db",
   "metadata": {},
   "outputs": [],
   "source": [
    "google_data=pd.DataFrame(google_data)"
   ]
  },
  {
   "cell_type": "code",
   "execution_count": 19,
   "id": "0aa67d35",
   "metadata": {},
   "outputs": [
    {
     "data": {
      "text/plain": [
       "pandas.core.frame.DataFrame"
      ]
     },
     "execution_count": 19,
     "metadata": {},
     "output_type": "execute_result"
    }
   ],
   "source": [
    "type(google_data)"
   ]
  },
  {
   "cell_type": "code",
   "execution_count": 20,
   "id": "1ec0f5b6",
   "metadata": {},
   "outputs": [
    {
     "data": {
      "text/html": [
       "<div>\n",
       "<style scoped>\n",
       "    .dataframe tbody tr th:only-of-type {\n",
       "        vertical-align: middle;\n",
       "    }\n",
       "\n",
       "    .dataframe tbody tr th {\n",
       "        vertical-align: top;\n",
       "    }\n",
       "\n",
       "    .dataframe thead th {\n",
       "        text-align: right;\n",
       "    }\n",
       "</style>\n",
       "<table border=\"1\" class=\"dataframe\">\n",
       "  <thead>\n",
       "    <tr style=\"text-align: right;\">\n",
       "      <th></th>\n",
       "      <th>Category 1</th>\n",
       "      <th>Category 2</th>\n",
       "      <th>Category 3</th>\n",
       "      <th>Category 4</th>\n",
       "      <th>Category 5</th>\n",
       "      <th>Category 6</th>\n",
       "      <th>Category 7</th>\n",
       "      <th>Category 8</th>\n",
       "      <th>Category 9</th>\n",
       "      <th>Category 10</th>\n",
       "      <th>...</th>\n",
       "      <th>Category 14</th>\n",
       "      <th>Category 15</th>\n",
       "      <th>Category 16</th>\n",
       "      <th>Category 17</th>\n",
       "      <th>Category 18</th>\n",
       "      <th>Category 19</th>\n",
       "      <th>Category 20</th>\n",
       "      <th>Category 21</th>\n",
       "      <th>Category 22</th>\n",
       "      <th>Category 23</th>\n",
       "    </tr>\n",
       "  </thead>\n",
       "  <tbody>\n",
       "    <tr>\n",
       "      <th>0</th>\n",
       "      <td>0.0</td>\n",
       "      <td>0.0</td>\n",
       "      <td>3.63</td>\n",
       "      <td>3.65</td>\n",
       "      <td>5.0</td>\n",
       "      <td>2.92</td>\n",
       "      <td>5.0</td>\n",
       "      <td>2.35</td>\n",
       "      <td>2.33</td>\n",
       "      <td>2.64</td>\n",
       "      <td>...</td>\n",
       "      <td>1.72</td>\n",
       "      <td>1.74</td>\n",
       "      <td>0.59</td>\n",
       "      <td>0.5</td>\n",
       "      <td>0.0</td>\n",
       "      <td>0.5</td>\n",
       "      <td>0.0</td>\n",
       "      <td>0.0</td>\n",
       "      <td>0.0</td>\n",
       "      <td>0.0</td>\n",
       "    </tr>\n",
       "    <tr>\n",
       "      <th>1</th>\n",
       "      <td>0.0</td>\n",
       "      <td>0.0</td>\n",
       "      <td>3.63</td>\n",
       "      <td>3.65</td>\n",
       "      <td>5.0</td>\n",
       "      <td>2.92</td>\n",
       "      <td>5.0</td>\n",
       "      <td>2.64</td>\n",
       "      <td>2.33</td>\n",
       "      <td>2.65</td>\n",
       "      <td>...</td>\n",
       "      <td>1.72</td>\n",
       "      <td>1.74</td>\n",
       "      <td>0.59</td>\n",
       "      <td>0.5</td>\n",
       "      <td>0.0</td>\n",
       "      <td>0.5</td>\n",
       "      <td>0.0</td>\n",
       "      <td>0.0</td>\n",
       "      <td>0.0</td>\n",
       "      <td>0.0</td>\n",
       "    </tr>\n",
       "    <tr>\n",
       "      <th>2</th>\n",
       "      <td>0.0</td>\n",
       "      <td>0.0</td>\n",
       "      <td>3.63</td>\n",
       "      <td>3.63</td>\n",
       "      <td>5.0</td>\n",
       "      <td>2.92</td>\n",
       "      <td>5.0</td>\n",
       "      <td>2.64</td>\n",
       "      <td>2.33</td>\n",
       "      <td>2.64</td>\n",
       "      <td>...</td>\n",
       "      <td>1.72</td>\n",
       "      <td>1.74</td>\n",
       "      <td>0.59</td>\n",
       "      <td>0.5</td>\n",
       "      <td>0.0</td>\n",
       "      <td>0.5</td>\n",
       "      <td>0.0</td>\n",
       "      <td>0.0</td>\n",
       "      <td>0.0</td>\n",
       "      <td>0.0</td>\n",
       "    </tr>\n",
       "  </tbody>\n",
       "</table>\n",
       "<p>3 rows × 23 columns</p>\n",
       "</div>"
      ],
      "text/plain": [
       "   Category 1  Category 2  Category 3  Category 4  Category 5  Category 6  \\\n",
       "0         0.0         0.0        3.63        3.65         5.0        2.92   \n",
       "1         0.0         0.0        3.63        3.65         5.0        2.92   \n",
       "2         0.0         0.0        3.63        3.63         5.0        2.92   \n",
       "\n",
       "   Category 7  Category 8  Category 9  Category 10  ... Category 14  \\\n",
       "0         5.0        2.35        2.33         2.64  ...        1.72   \n",
       "1         5.0        2.64        2.33         2.65  ...        1.72   \n",
       "2         5.0        2.64        2.33         2.64  ...        1.72   \n",
       "\n",
       "   Category 15  Category 16  Category 17  Category 18  Category 19  \\\n",
       "0         1.74         0.59          0.5          0.0          0.5   \n",
       "1         1.74         0.59          0.5          0.0          0.5   \n",
       "2         1.74         0.59          0.5          0.0          0.5   \n",
       "\n",
       "   Category 20  Category 21  Category 22  Category 23  \n",
       "0          0.0          0.0          0.0          0.0  \n",
       "1          0.0          0.0          0.0          0.0  \n",
       "2          0.0          0.0          0.0          0.0  \n",
       "\n",
       "[3 rows x 23 columns]"
      ]
     },
     "execution_count": 20,
     "metadata": {},
     "output_type": "execute_result"
    }
   ],
   "source": [
    "google_data.head(3)"
   ]
  },
  {
   "cell_type": "code",
   "execution_count": 21,
   "id": "1771e018",
   "metadata": {},
   "outputs": [],
   "source": [
    "google_data=google_data.iloc[:,1:24]"
   ]
  },
  {
   "cell_type": "code",
   "execution_count": 22,
   "id": "e1c6b6b2",
   "metadata": {},
   "outputs": [
    {
     "name": "stdout",
     "output_type": "stream",
     "text": [
      "<class 'pandas.core.frame.DataFrame'>\n",
      "RangeIndex: 5456 entries, 0 to 5455\n",
      "Data columns (total 22 columns):\n",
      " #   Column       Non-Null Count  Dtype  \n",
      "---  ------       --------------  -----  \n",
      " 0   Category 2   5456 non-null   float64\n",
      " 1   Category 3   5456 non-null   float64\n",
      " 2   Category 4   5456 non-null   float64\n",
      " 3   Category 5   5456 non-null   float64\n",
      " 4   Category 6   5456 non-null   float64\n",
      " 5   Category 7   5456 non-null   float64\n",
      " 6   Category 8   5456 non-null   float64\n",
      " 7   Category 9   5456 non-null   float64\n",
      " 8   Category 10  5456 non-null   float64\n",
      " 9   Category 11  5456 non-null   object \n",
      " 10  Category 12  5455 non-null   float64\n",
      " 11  Category 13  5456 non-null   float64\n",
      " 12  Category 14  5456 non-null   float64\n",
      " 13  Category 15  5456 non-null   float64\n",
      " 14  Category 16  5456 non-null   float64\n",
      " 15  Category 17  5456 non-null   float64\n",
      " 16  Category 18  5456 non-null   float64\n",
      " 17  Category 19  5456 non-null   float64\n",
      " 18  Category 20  5456 non-null   float64\n",
      " 19  Category 21  5456 non-null   float64\n",
      " 20  Category 22  5456 non-null   float64\n",
      " 21  Category 23  5456 non-null   float64\n",
      "dtypes: float64(21), object(1)\n",
      "memory usage: 937.9+ KB\n"
     ]
    }
   ],
   "source": [
    "google_data.info()"
   ]
  },
  {
   "cell_type": "code",
   "execution_count": 23,
   "id": "8a5f7b7f",
   "metadata": {},
   "outputs": [
    {
     "data": {
      "text/plain": [
       "(5456, 22)"
      ]
     },
     "execution_count": 23,
     "metadata": {},
     "output_type": "execute_result"
    }
   ],
   "source": [
    "google_data.shape"
   ]
  },
  {
   "cell_type": "code",
   "execution_count": 24,
   "id": "b320a302",
   "metadata": {},
   "outputs": [
    {
     "data": {
      "text/plain": [
       "Category 2     float64\n",
       "Category 3     float64\n",
       "Category 4     float64\n",
       "Category 5     float64\n",
       "Category 6     float64\n",
       "Category 7     float64\n",
       "Category 8     float64\n",
       "Category 9     float64\n",
       "Category 10    float64\n",
       "Category 11     object\n",
       "Category 12    float64\n",
       "Category 13    float64\n",
       "Category 14    float64\n",
       "Category 15    float64\n",
       "Category 16    float64\n",
       "Category 17    float64\n",
       "Category 18    float64\n",
       "Category 19    float64\n",
       "Category 20    float64\n",
       "Category 21    float64\n",
       "Category 22    float64\n",
       "Category 23    float64\n",
       "dtype: object"
      ]
     },
     "execution_count": 24,
     "metadata": {},
     "output_type": "execute_result"
    }
   ],
   "source": [
    "google_data.dtypes"
   ]
  },
  {
   "cell_type": "code",
   "execution_count": 25,
   "id": "7973e8bd",
   "metadata": {},
   "outputs": [
    {
     "data": {
      "text/plain": [
       "Category 2     0\n",
       "Category 3     0\n",
       "Category 4     0\n",
       "Category 5     0\n",
       "Category 6     0\n",
       "Category 7     0\n",
       "Category 8     0\n",
       "Category 9     0\n",
       "Category 10    0\n",
       "Category 11    0\n",
       "Category 12    1\n",
       "Category 13    0\n",
       "Category 14    0\n",
       "Category 15    0\n",
       "Category 16    0\n",
       "Category 17    0\n",
       "Category 18    0\n",
       "Category 19    0\n",
       "Category 20    0\n",
       "Category 21    0\n",
       "Category 22    0\n",
       "Category 23    0\n",
       "dtype: int64"
      ]
     },
     "execution_count": 25,
     "metadata": {},
     "output_type": "execute_result"
    }
   ],
   "source": [
    "google_data.isna().sum() #  missing values in Category 12 and Category 24"
   ]
  },
  {
   "cell_type": "code",
   "execution_count": 27,
   "id": "ba9d990d",
   "metadata": {},
   "outputs": [
    {
     "data": {
      "text/plain": [
       "count    5456.000000\n",
       "mean        2.078339\n",
       "std         1.249094\n",
       "min         0.780000\n",
       "25%         1.290000\n",
       "50%         1.690000\n",
       "75%         2.282500\n",
       "max         5.000000\n",
       "Name: Category 12, dtype: float64"
      ]
     },
     "execution_count": 27,
     "metadata": {},
     "output_type": "execute_result"
    }
   ],
   "source": [
    "# Impute missing Values with mean in Category_12  and Category_24\n",
    "\n",
    "google_data['Category 12'] = google_data['Category 12'].fillna(google_data['Category 12'].mean())\n",
    "google_data['Category 12'].describe() "
   ]
  },
  {
   "cell_type": "code",
   "execution_count": 28,
   "id": "9af74aa7",
   "metadata": {},
   "outputs": [
    {
     "data": {
      "text/plain": [
       "Category 2     0\n",
       "Category 3     0\n",
       "Category 4     0\n",
       "Category 5     0\n",
       "Category 6     0\n",
       "Category 7     0\n",
       "Category 8     0\n",
       "Category 9     0\n",
       "Category 10    0\n",
       "Category 11    0\n",
       "Category 12    0\n",
       "Category 13    0\n",
       "Category 14    0\n",
       "Category 15    0\n",
       "Category 16    0\n",
       "Category 17    0\n",
       "Category 18    0\n",
       "Category 19    0\n",
       "Category 20    0\n",
       "Category 21    0\n",
       "Category 22    0\n",
       "Category 23    0\n",
       "dtype: int64"
      ]
     },
     "execution_count": 28,
     "metadata": {},
     "output_type": "execute_result"
    }
   ],
   "source": [
    "google_data.isnull().sum()"
   ]
  },
  {
   "cell_type": "code",
   "execution_count": 29,
   "id": "f0544a31",
   "metadata": {},
   "outputs": [],
   "source": [
    "google_data.to_csv('google_data.csv')"
   ]
  },
  {
   "cell_type": "code",
   "execution_count": 30,
   "id": "7fb21940",
   "metadata": {},
   "outputs": [],
   "source": [
    "from sklearn.preprocessing import LabelEncoder\n",
    "le=LabelEncoder()"
   ]
  },
  {
   "cell_type": "code",
   "execution_count": 32,
   "id": "ae884e1d",
   "metadata": {},
   "outputs": [],
   "source": [
    "google_data['Category 11']=le.fit_transform(google_data['Category 11'].values).astype(\"float\")"
   ]
  },
  {
   "cell_type": "code",
   "execution_count": 33,
   "id": "b4b51f5a",
   "metadata": {},
   "outputs": [
    {
     "data": {
      "text/plain": [
       "Category 2     float64\n",
       "Category 3     float64\n",
       "Category 4     float64\n",
       "Category 5     float64\n",
       "Category 6     float64\n",
       "Category 7     float64\n",
       "Category 8     float64\n",
       "Category 9     float64\n",
       "Category 10    float64\n",
       "Category 11    float64\n",
       "Category 12    float64\n",
       "Category 13    float64\n",
       "Category 14    float64\n",
       "Category 15    float64\n",
       "Category 16    float64\n",
       "Category 17    float64\n",
       "Category 18    float64\n",
       "Category 19    float64\n",
       "Category 20    float64\n",
       "Category 21    float64\n",
       "Category 22    float64\n",
       "Category 23    float64\n",
       "dtype: object"
      ]
     },
     "execution_count": 33,
     "metadata": {},
     "output_type": "execute_result"
    }
   ],
   "source": [
    "google_data.dtypes"
   ]
  },
  {
   "cell_type": "code",
   "execution_count": 34,
   "id": "2beb82b7",
   "metadata": {},
   "outputs": [],
   "source": [
    "from sklearn import preprocessing\n",
    "scaled_data_google_data =preprocessing.normalize(google_data)\n",
    "scaled_data_google_data = pd.DataFrame(scaled_data_google_data,columns =  google_data.columns)"
   ]
  },
  {
   "cell_type": "code",
   "execution_count": 41,
   "id": "b7d5148e",
   "metadata": {},
   "outputs": [],
   "source": [
    "from scipy.cluster.hierarchy import dendrogram, linkage, cophenet\n",
    "import scipy.cluster.hierarchy as shc\n",
    "from scipy.spatial.distance import pdist\n",
    "from sklearn.cluster import AgglomerativeClustering"
   ]
  },
  {
   "cell_type": "code",
   "execution_count": 42,
   "id": "ce72ddc2",
   "metadata": {},
   "outputs": [
    {
     "data": {
      "text/plain": [
       "array([1, 1, 1, ..., 0, 0, 0], dtype=int64)"
      ]
     },
     "execution_count": 42,
     "metadata": {},
     "output_type": "execute_result"
    }
   ],
   "source": [
    "cluster =  AgglomerativeClustering(n_clusters =2 ,affinity ='euclidean', linkage='ward')\n",
    "cluster.fit_predict(scaled_data_google_data)"
   ]
  },
  {
   "cell_type": "code",
   "execution_count": 43,
   "id": "8c3167ff",
   "metadata": {},
   "outputs": [
    {
     "data": {
      "text/plain": [
       "<matplotlib.collections.PathCollection at 0x2960d3210d0>"
      ]
     },
     "execution_count": 43,
     "metadata": {},
     "output_type": "execute_result"
    },
    {
     "data": {
      "image/png": "[encoded data removed]",
      "text/plain": [
       "<Figure size 720x504 with 1 Axes>"
      ]
     },
     "metadata": {
      "needs_background": "light"
     },
     "output_type": "display_data"
    }
   ],
   "source": [
    "## plotting the scatterplot\n",
    "plt.figure(figsize = (10,7))\n",
    "plt.scatter(scaled_data_google_data['Category 5'],scaled_data_google_data['Category 6'],c=cluster.labels_)"
   ]
  },
  {
   "cell_type": "code",
   "execution_count": 44,
   "id": "b24902df",
   "metadata": {},
   "outputs": [
    {
     "data": {
      "image/png": "[encoded data removed]",
      "text/plain": [
       "<Figure size 720x504 with 1 Axes>"
      ]
     },
     "metadata": {
      "needs_background": "light"
     },
     "output_type": "display_data"
    }
   ],
   "source": [
    "## build dendograms\n",
    "plt.figure(figsize = (10,7))\n",
    "plt.title('Dendograms')\n",
    "dend = shc.dendrogram(shc.linkage(scaled_data_google_data,method ='ward'))"
   ]
  },
  {
   "cell_type": "code",
   "execution_count": 45,
   "id": "33a544ec",
   "metadata": {},
   "outputs": [
    {
     "name": "stdout",
     "output_type": "stream",
     "text": [
      "0.867971608393704 [0.00386054 0.00386054 0.00902627 ... 0.36964329 0.21305205 0.36964329]\n"
     ]
    }
   ],
   "source": [
    "## Cophenetic correlation Coefficient\n",
    "Z_ward=shc.linkage(scaled_data_google_data,method ='ward')\n",
    "c, coph_dists = cophenet(Z_ward, pdist(scaled_data_google_data))\n",
    "print ( c,coph_dists) # 0.52 "
   ]
  },
  {
   "cell_type": "code",
   "execution_count": 46,
   "id": "3994ccc7",
   "metadata": {},
   "outputs": [
    {
     "data": {
      "text/plain": [
       "array([0, 0, 0, ..., 0, 0, 0], dtype=int64)"
      ]
     },
     "execution_count": 46,
     "metadata": {},
     "output_type": "execute_result"
    }
   ],
   "source": [
    "cluster =  AgglomerativeClustering(n_clusters =2 ,affinity ='euclidean', linkage='single')\n",
    "cluster.fit_predict(scaled_data_google_data)"
   ]
  },
  {
   "cell_type": "code",
   "execution_count": 47,
   "id": "82e7a8ec",
   "metadata": {},
   "outputs": [
    {
     "data": {
      "text/plain": [
       "array([0, 0, 0, ..., 0, 0, 0], dtype=int64)"
      ]
     },
     "execution_count": 47,
     "metadata": {},
     "output_type": "execute_result"
    }
   ],
   "source": [
    "cluster =  AgglomerativeClustering(n_clusters =2 ,affinity ='euclidean', linkage='single')\n",
    "cluster.fit_predict(scaled_data_google_data)"
   ]
  },
  {
   "cell_type": "code",
   "execution_count": 48,
   "id": "95ea9b5c",
   "metadata": {},
   "outputs": [
    {
     "data": {
      "image/png": "[encoded data removed]",
      "text/plain": [
       "<Figure size 720x504 with 1 Axes>"
      ]
     },
     "metadata": {
      "needs_background": "light"
     },
     "output_type": "display_data"
    }
   ],
   "source": [
    "## build dendogram\n",
    "plt.figure(figsize = (10,7))\n",
    "plt.title('Dendograms')\n",
    "dend = shc.dendrogram(shc.linkage(scaled_data_google_data,method ='single'))"
   ]
  },
  {
   "cell_type": "code",
   "execution_count": 49,
   "id": "5796f7f7",
   "metadata": {},
   "outputs": [
    {
     "name": "stdout",
     "output_type": "stream",
     "text": [
      "0.9662810904046075 [0.00310521 0.00310521 0.00710215 ... 0.20465925 0.18432448 0.20465925]\n"
     ]
    }
   ],
   "source": [
    "# Cophenetic correlation coefficient\n",
    "Z_avg =shc.linkage(scaled_data_google_data,method ='average')\n",
    "c, coph_dists_a = cophenet(Z_avg, pdist(scaled_data_google_data))\n",
    "print (c, coph_dists_a)"
   ]
  },
  {
   "cell_type": "code",
   "execution_count": null,
   "id": "470bf1f8",
   "metadata": {},
   "outputs": [],
   "source": []
  }
 ],
 "metadata": {
  "kernelspec": {
   "display_name": "Python 3 (ipykernel)",
   "language": "python",
   "name": "python3"
  },
  "language_info": {
   "codemirror_mode": {
    "name": "ipython",
    "version": 3
   },
   "file_extension": ".py",
   "mimetype": "text/x-python",
   "name": "python",
   "nbconvert_exporter": "python",
   "pygments_lexer": "ipython3",
   "version": "3.9.12"
  }
 },
 "nbformat": 4,
 "nbformat_minor": 5
}
