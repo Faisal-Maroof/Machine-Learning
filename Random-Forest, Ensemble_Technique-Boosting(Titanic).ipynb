{
 "cells": [
  {
   "cell_type": "code",
   "execution_count": 91,
   "id": "2f73e5eb",
   "metadata": {},
   "outputs": [],
   "source": [
    "import pandas as pd\n",
    "import numpy as np"
   ]
  },
  {
   "cell_type": "code",
   "execution_count": 92,
   "id": "92cff98d",
   "metadata": {},
   "outputs": [],
   "source": [
    "df= pd.read_csv(r'C:\\Users\\hp\\Downloads\\Train.csv')"
   ]
  },
  {
   "cell_type": "code",
   "execution_count": 93,
   "id": "f31b7792",
   "metadata": {},
   "outputs": [
    {
     "data": {
      "text/html": [
       "<div>\n",
       "<style scoped>\n",
       "    .dataframe tbody tr th:only-of-type {\n",
       "        vertical-align: middle;\n",
       "    }\n",
       "\n",
       "    .dataframe tbody tr th {\n",
       "        vertical-align: top;\n",
       "    }\n",
       "\n",
       "    .dataframe thead th {\n",
       "        text-align: right;\n",
       "    }\n",
       "</style>\n",
       "<table border=\"1\" class=\"dataframe\">\n",
       "  <thead>\n",
       "    <tr style=\"text-align: right;\">\n",
       "      <th></th>\n",
       "      <th>PassengerId</th>\n",
       "      <th>Survived</th>\n",
       "      <th>Pclass</th>\n",
       "      <th>Name</th>\n",
       "      <th>Sex</th>\n",
       "      <th>Age</th>\n",
       "      <th>SibSp</th>\n",
       "      <th>Parch</th>\n",
       "      <th>Ticket</th>\n",
       "      <th>Fare</th>\n",
       "      <th>Cabin</th>\n",
       "      <th>Embarked</th>\n",
       "    </tr>\n",
       "  </thead>\n",
       "  <tbody>\n",
       "    <tr>\n",
       "      <th>0</th>\n",
       "      <td>0</td>\n",
       "      <td>1</td>\n",
       "      <td>1</td>\n",
       "      <td>Oconnor, Frankie</td>\n",
       "      <td>male</td>\n",
       "      <td>NaN</td>\n",
       "      <td>2</td>\n",
       "      <td>0</td>\n",
       "      <td>209245</td>\n",
       "      <td>27.14</td>\n",
       "      <td>C12239</td>\n",
       "      <td>S</td>\n",
       "    </tr>\n",
       "    <tr>\n",
       "      <th>1</th>\n",
       "      <td>1</td>\n",
       "      <td>0</td>\n",
       "      <td>3</td>\n",
       "      <td>Bryan, Drew</td>\n",
       "      <td>male</td>\n",
       "      <td>NaN</td>\n",
       "      <td>0</td>\n",
       "      <td>0</td>\n",
       "      <td>27323</td>\n",
       "      <td>13.35</td>\n",
       "      <td>NaN</td>\n",
       "      <td>S</td>\n",
       "    </tr>\n",
       "    <tr>\n",
       "      <th>2</th>\n",
       "      <td>2</td>\n",
       "      <td>0</td>\n",
       "      <td>3</td>\n",
       "      <td>Owens, Kenneth</td>\n",
       "      <td>male</td>\n",
       "      <td>0.33</td>\n",
       "      <td>1</td>\n",
       "      <td>2</td>\n",
       "      <td>CA 457703</td>\n",
       "      <td>71.29</td>\n",
       "      <td>NaN</td>\n",
       "      <td>S</td>\n",
       "    </tr>\n",
       "    <tr>\n",
       "      <th>3</th>\n",
       "      <td>3</td>\n",
       "      <td>0</td>\n",
       "      <td>3</td>\n",
       "      <td>Kramer, James</td>\n",
       "      <td>male</td>\n",
       "      <td>19.00</td>\n",
       "      <td>0</td>\n",
       "      <td>0</td>\n",
       "      <td>A. 10866</td>\n",
       "      <td>13.04</td>\n",
       "      <td>NaN</td>\n",
       "      <td>S</td>\n",
       "    </tr>\n",
       "    <tr>\n",
       "      <th>4</th>\n",
       "      <td>4</td>\n",
       "      <td>1</td>\n",
       "      <td>3</td>\n",
       "      <td>Bond, Michael</td>\n",
       "      <td>male</td>\n",
       "      <td>25.00</td>\n",
       "      <td>0</td>\n",
       "      <td>0</td>\n",
       "      <td>427635</td>\n",
       "      <td>7.76</td>\n",
       "      <td>NaN</td>\n",
       "      <td>S</td>\n",
       "    </tr>\n",
       "  </tbody>\n",
       "</table>\n",
       "</div>"
      ],
      "text/plain": [
       "   PassengerId  Survived  Pclass              Name   Sex    Age  SibSp  Parch  \\\n",
       "0            0         1       1  Oconnor, Frankie  male    NaN      2      0   \n",
       "1            1         0       3       Bryan, Drew  male    NaN      0      0   \n",
       "2            2         0       3    Owens, Kenneth  male   0.33      1      2   \n",
       "3            3         0       3     Kramer, James  male  19.00      0      0   \n",
       "4            4         1       3     Bond, Michael  male  25.00      0      0   \n",
       "\n",
       "      Ticket   Fare   Cabin Embarked  \n",
       "0     209245  27.14  C12239        S  \n",
       "1      27323  13.35     NaN        S  \n",
       "2  CA 457703  71.29     NaN        S  \n",
       "3   A. 10866  13.04     NaN        S  \n",
       "4     427635   7.76     NaN        S  "
      ]
     },
     "execution_count": 93,
     "metadata": {},
     "output_type": "execute_result"
    }
   ],
   "source": [
    "df.head()"
   ]
  },
  {
   "cell_type": "code",
   "execution_count": 94,
   "id": "6f23e9b3",
   "metadata": {},
   "outputs": [
    {
     "data": {
      "text/html": [
       "<div>\n",
       "<style scoped>\n",
       "    .dataframe tbody tr th:only-of-type {\n",
       "        vertical-align: middle;\n",
       "    }\n",
       "\n",
       "    .dataframe tbody tr th {\n",
       "        vertical-align: top;\n",
       "    }\n",
       "\n",
       "    .dataframe thead th {\n",
       "        text-align: right;\n",
       "    }\n",
       "</style>\n",
       "<table border=\"1\" class=\"dataframe\">\n",
       "  <thead>\n",
       "    <tr style=\"text-align: right;\">\n",
       "      <th></th>\n",
       "      <th>PassengerId</th>\n",
       "      <th>Survived</th>\n",
       "      <th>Pclass</th>\n",
       "      <th>Name</th>\n",
       "      <th>Sex</th>\n",
       "      <th>Age</th>\n",
       "      <th>SibSp</th>\n",
       "      <th>Parch</th>\n",
       "      <th>Ticket</th>\n",
       "      <th>Fare</th>\n",
       "      <th>Cabin</th>\n",
       "      <th>Embarked</th>\n",
       "    </tr>\n",
       "  </thead>\n",
       "  <tbody>\n",
       "    <tr>\n",
       "      <th>99995</th>\n",
       "      <td>99995</td>\n",
       "      <td>1</td>\n",
       "      <td>2</td>\n",
       "      <td>Bell, Adele</td>\n",
       "      <td>female</td>\n",
       "      <td>62.0</td>\n",
       "      <td>0</td>\n",
       "      <td>0</td>\n",
       "      <td>PC 15008</td>\n",
       "      <td>14.86</td>\n",
       "      <td>D17243</td>\n",
       "      <td>C</td>\n",
       "    </tr>\n",
       "    <tr>\n",
       "      <th>99996</th>\n",
       "      <td>99996</td>\n",
       "      <td>0</td>\n",
       "      <td>2</td>\n",
       "      <td>Brown, Herman</td>\n",
       "      <td>male</td>\n",
       "      <td>66.0</td>\n",
       "      <td>0</td>\n",
       "      <td>0</td>\n",
       "      <td>13273</td>\n",
       "      <td>11.15</td>\n",
       "      <td>NaN</td>\n",
       "      <td>S</td>\n",
       "    </tr>\n",
       "    <tr>\n",
       "      <th>99997</th>\n",
       "      <td>99997</td>\n",
       "      <td>0</td>\n",
       "      <td>3</td>\n",
       "      <td>Childress, Charles</td>\n",
       "      <td>male</td>\n",
       "      <td>37.0</td>\n",
       "      <td>0</td>\n",
       "      <td>0</td>\n",
       "      <td>NaN</td>\n",
       "      <td>9.95</td>\n",
       "      <td>NaN</td>\n",
       "      <td>S</td>\n",
       "    </tr>\n",
       "    <tr>\n",
       "      <th>99998</th>\n",
       "      <td>99998</td>\n",
       "      <td>0</td>\n",
       "      <td>3</td>\n",
       "      <td>Caughlin, Thomas</td>\n",
       "      <td>male</td>\n",
       "      <td>51.0</td>\n",
       "      <td>0</td>\n",
       "      <td>1</td>\n",
       "      <td>458654</td>\n",
       "      <td>30.92</td>\n",
       "      <td>NaN</td>\n",
       "      <td>S</td>\n",
       "    </tr>\n",
       "    <tr>\n",
       "      <th>99999</th>\n",
       "      <td>99999</td>\n",
       "      <td>0</td>\n",
       "      <td>3</td>\n",
       "      <td>Enciso, Tyler</td>\n",
       "      <td>male</td>\n",
       "      <td>55.0</td>\n",
       "      <td>0</td>\n",
       "      <td>0</td>\n",
       "      <td>458074</td>\n",
       "      <td>13.96</td>\n",
       "      <td>NaN</td>\n",
       "      <td>S</td>\n",
       "    </tr>\n",
       "  </tbody>\n",
       "</table>\n",
       "</div>"
      ],
      "text/plain": [
       "       PassengerId  Survived  Pclass                Name     Sex   Age  SibSp  \\\n",
       "99995        99995         1       2         Bell, Adele  female  62.0      0   \n",
       "99996        99996         0       2       Brown, Herman    male  66.0      0   \n",
       "99997        99997         0       3  Childress, Charles    male  37.0      0   \n",
       "99998        99998         0       3    Caughlin, Thomas    male  51.0      0   \n",
       "99999        99999         0       3       Enciso, Tyler    male  55.0      0   \n",
       "\n",
       "       Parch    Ticket   Fare   Cabin Embarked  \n",
       "99995      0  PC 15008  14.86  D17243        C  \n",
       "99996      0     13273  11.15     NaN        S  \n",
       "99997      0       NaN   9.95     NaN        S  \n",
       "99998      1    458654  30.92     NaN        S  \n",
       "99999      0    458074  13.96     NaN        S  "
      ]
     },
     "execution_count": 94,
     "metadata": {},
     "output_type": "execute_result"
    }
   ],
   "source": [
    "df.tail()"
   ]
  },
  {
   "cell_type": "code",
   "execution_count": 95,
   "id": "4a615514",
   "metadata": {},
   "outputs": [
    {
     "data": {
      "text/html": [
       "<div>\n",
       "<style scoped>\n",
       "    .dataframe tbody tr th:only-of-type {\n",
       "        vertical-align: middle;\n",
       "    }\n",
       "\n",
       "    .dataframe tbody tr th {\n",
       "        vertical-align: top;\n",
       "    }\n",
       "\n",
       "    .dataframe thead th {\n",
       "        text-align: right;\n",
       "    }\n",
       "</style>\n",
       "<table border=\"1\" class=\"dataframe\">\n",
       "  <thead>\n",
       "    <tr style=\"text-align: right;\">\n",
       "      <th></th>\n",
       "      <th>PassengerId</th>\n",
       "      <th>Survived</th>\n",
       "      <th>Pclass</th>\n",
       "      <th>Age</th>\n",
       "      <th>SibSp</th>\n",
       "      <th>Parch</th>\n",
       "      <th>Fare</th>\n",
       "    </tr>\n",
       "  </thead>\n",
       "  <tbody>\n",
       "    <tr>\n",
       "      <th>count</th>\n",
       "      <td>100000.000000</td>\n",
       "      <td>100000.000000</td>\n",
       "      <td>100000.000000</td>\n",
       "      <td>96708.000000</td>\n",
       "      <td>100000.000000</td>\n",
       "      <td>100000.000000</td>\n",
       "      <td>99866.00000</td>\n",
       "    </tr>\n",
       "    <tr>\n",
       "      <th>mean</th>\n",
       "      <td>49999.500000</td>\n",
       "      <td>0.427740</td>\n",
       "      <td>2.106910</td>\n",
       "      <td>38.355472</td>\n",
       "      <td>0.397690</td>\n",
       "      <td>0.454560</td>\n",
       "      <td>43.92933</td>\n",
       "    </tr>\n",
       "    <tr>\n",
       "      <th>std</th>\n",
       "      <td>28867.657797</td>\n",
       "      <td>0.494753</td>\n",
       "      <td>0.837727</td>\n",
       "      <td>18.313556</td>\n",
       "      <td>0.862566</td>\n",
       "      <td>0.950076</td>\n",
       "      <td>69.58882</td>\n",
       "    </tr>\n",
       "    <tr>\n",
       "      <th>min</th>\n",
       "      <td>0.000000</td>\n",
       "      <td>0.000000</td>\n",
       "      <td>1.000000</td>\n",
       "      <td>0.080000</td>\n",
       "      <td>0.000000</td>\n",
       "      <td>0.000000</td>\n",
       "      <td>0.68000</td>\n",
       "    </tr>\n",
       "    <tr>\n",
       "      <th>25%</th>\n",
       "      <td>24999.750000</td>\n",
       "      <td>0.000000</td>\n",
       "      <td>1.000000</td>\n",
       "      <td>25.000000</td>\n",
       "      <td>0.000000</td>\n",
       "      <td>0.000000</td>\n",
       "      <td>10.04000</td>\n",
       "    </tr>\n",
       "    <tr>\n",
       "      <th>50%</th>\n",
       "      <td>49999.500000</td>\n",
       "      <td>0.000000</td>\n",
       "      <td>2.000000</td>\n",
       "      <td>39.000000</td>\n",
       "      <td>0.000000</td>\n",
       "      <td>0.000000</td>\n",
       "      <td>24.46000</td>\n",
       "    </tr>\n",
       "    <tr>\n",
       "      <th>75%</th>\n",
       "      <td>74999.250000</td>\n",
       "      <td>1.000000</td>\n",
       "      <td>3.000000</td>\n",
       "      <td>53.000000</td>\n",
       "      <td>1.000000</td>\n",
       "      <td>1.000000</td>\n",
       "      <td>33.50000</td>\n",
       "    </tr>\n",
       "    <tr>\n",
       "      <th>max</th>\n",
       "      <td>99999.000000</td>\n",
       "      <td>1.000000</td>\n",
       "      <td>3.000000</td>\n",
       "      <td>87.000000</td>\n",
       "      <td>8.000000</td>\n",
       "      <td>9.000000</td>\n",
       "      <td>744.66000</td>\n",
       "    </tr>\n",
       "  </tbody>\n",
       "</table>\n",
       "</div>"
      ],
      "text/plain": [
       "         PassengerId       Survived         Pclass           Age  \\\n",
       "count  100000.000000  100000.000000  100000.000000  96708.000000   \n",
       "mean    49999.500000       0.427740       2.106910     38.355472   \n",
       "std     28867.657797       0.494753       0.837727     18.313556   \n",
       "min         0.000000       0.000000       1.000000      0.080000   \n",
       "25%     24999.750000       0.000000       1.000000     25.000000   \n",
       "50%     49999.500000       0.000000       2.000000     39.000000   \n",
       "75%     74999.250000       1.000000       3.000000     53.000000   \n",
       "max     99999.000000       1.000000       3.000000     87.000000   \n",
       "\n",
       "               SibSp          Parch         Fare  \n",
       "count  100000.000000  100000.000000  99866.00000  \n",
       "mean        0.397690       0.454560     43.92933  \n",
       "std         0.862566       0.950076     69.58882  \n",
       "min         0.000000       0.000000      0.68000  \n",
       "25%         0.000000       0.000000     10.04000  \n",
       "50%         0.000000       0.000000     24.46000  \n",
       "75%         1.000000       1.000000     33.50000  \n",
       "max         8.000000       9.000000    744.66000  "
      ]
     },
     "execution_count": 95,
     "metadata": {},
     "output_type": "execute_result"
    }
   ],
   "source": [
    "df.describe()"
   ]
  },
  {
   "cell_type": "code",
   "execution_count": 96,
   "id": "f2cdc54a",
   "metadata": {},
   "outputs": [
    {
     "name": "stdout",
     "output_type": "stream",
     "text": [
      "<class 'pandas.core.frame.DataFrame'>\n",
      "RangeIndex: 100000 entries, 0 to 99999\n",
      "Data columns (total 12 columns):\n",
      " #   Column       Non-Null Count   Dtype  \n",
      "---  ------       --------------   -----  \n",
      " 0   PassengerId  100000 non-null  int64  \n",
      " 1   Survived     100000 non-null  int64  \n",
      " 2   Pclass       100000 non-null  int64  \n",
      " 3   Name         100000 non-null  object \n",
      " 4   Sex          100000 non-null  object \n",
      " 5   Age          96708 non-null   float64\n",
      " 6   SibSp        100000 non-null  int64  \n",
      " 7   Parch        100000 non-null  int64  \n",
      " 8   Ticket       95377 non-null   object \n",
      " 9   Fare         99866 non-null   float64\n",
      " 10  Cabin        32134 non-null   object \n",
      " 11  Embarked     99750 non-null   object \n",
      "dtypes: float64(2), int64(5), object(5)\n",
      "memory usage: 9.2+ MB\n"
     ]
    }
   ],
   "source": [
    "df.info()"
   ]
  },
  {
   "cell_type": "code",
   "execution_count": 97,
   "id": "a5bec633",
   "metadata": {},
   "outputs": [],
   "source": [
    "##nulls_percentage = nulls[nulls!=0]/df.shape[0]*100\n",
    "##print('the percentages of null values per feature:\\n')\n",
    "##print(round(nulls_percentage,2))"
   ]
  },
  {
   "cell_type": "code",
   "execution_count": 98,
   "id": "22998582",
   "metadata": {},
   "outputs": [
    {
     "data": {
      "text/plain": [
       "100000"
      ]
     },
     "execution_count": 98,
     "metadata": {},
     "output_type": "execute_result"
    }
   ],
   "source": [
    "df.shape[0]"
   ]
  },
  {
   "cell_type": "code",
   "execution_count": 99,
   "id": "1ae38e2d",
   "metadata": {},
   "outputs": [
    {
     "data": {
      "image/png": "[encoded data removed]",
      "text/plain": [
       "<Figure size 1080x360 with 1 Axes>"
      ]
     },
     "metadata": {
      "needs_background": "light"
     },
     "output_type": "display_data"
    }
   ],
   "source": [
    "# Plot missing values\n",
    "plt.figure(figsize=(15,5))\n",
    "missing= df.isnull().sum()\n",
    "missing= missing[missing > 0]\n",
    "missing.sort_values(ascending= False, inplace=True)\n",
    "plt.xlabel(\"Features\", fontsize=15)\n",
    "plt.ylabel(\"Number of missing values\", fontsize=15)\n",
    "plt.title(\"Number of missing data by feature\", fontsize=15)\n",
    "missing.plot(kind=\"bar\")\n",
    "\n",
    "plt.show()"
   ]
  },
  {
   "cell_type": "code",
   "execution_count": 27,
   "id": "84f4b6d8",
   "metadata": {},
   "outputs": [
    {
     "data": {
      "text/html": [
       "<div>\n",
       "<style scoped>\n",
       "    .dataframe tbody tr th:only-of-type {\n",
       "        vertical-align: middle;\n",
       "    }\n",
       "\n",
       "    .dataframe tbody tr th {\n",
       "        vertical-align: top;\n",
       "    }\n",
       "\n",
       "    .dataframe thead th {\n",
       "        text-align: right;\n",
       "    }\n",
       "</style>\n",
       "<table border=\"1\" class=\"dataframe\">\n",
       "  <thead>\n",
       "    <tr style=\"text-align: right;\">\n",
       "      <th></th>\n",
       "      <th>False</th>\n",
       "      <th>True</th>\n",
       "    </tr>\n",
       "  </thead>\n",
       "  <tbody>\n",
       "    <tr>\n",
       "      <th>PassengerId</th>\n",
       "      <td>100000.0</td>\n",
       "      <td>NaN</td>\n",
       "    </tr>\n",
       "    <tr>\n",
       "      <th>Survived</th>\n",
       "      <td>100000.0</td>\n",
       "      <td>NaN</td>\n",
       "    </tr>\n",
       "    <tr>\n",
       "      <th>Pclass</th>\n",
       "      <td>100000.0</td>\n",
       "      <td>NaN</td>\n",
       "    </tr>\n",
       "    <tr>\n",
       "      <th>Name</th>\n",
       "      <td>100000.0</td>\n",
       "      <td>NaN</td>\n",
       "    </tr>\n",
       "    <tr>\n",
       "      <th>Sex</th>\n",
       "      <td>100000.0</td>\n",
       "      <td>NaN</td>\n",
       "    </tr>\n",
       "    <tr>\n",
       "      <th>Age</th>\n",
       "      <td>96708.0</td>\n",
       "      <td>3292.0</td>\n",
       "    </tr>\n",
       "    <tr>\n",
       "      <th>SibSp</th>\n",
       "      <td>100000.0</td>\n",
       "      <td>NaN</td>\n",
       "    </tr>\n",
       "    <tr>\n",
       "      <th>Parch</th>\n",
       "      <td>100000.0</td>\n",
       "      <td>NaN</td>\n",
       "    </tr>\n",
       "    <tr>\n",
       "      <th>Ticket</th>\n",
       "      <td>95377.0</td>\n",
       "      <td>4623.0</td>\n",
       "    </tr>\n",
       "    <tr>\n",
       "      <th>Fare</th>\n",
       "      <td>99866.0</td>\n",
       "      <td>134.0</td>\n",
       "    </tr>\n",
       "    <tr>\n",
       "      <th>Cabin</th>\n",
       "      <td>32134.0</td>\n",
       "      <td>67866.0</td>\n",
       "    </tr>\n",
       "    <tr>\n",
       "      <th>Embarked</th>\n",
       "      <td>99750.0</td>\n",
       "      <td>250.0</td>\n",
       "    </tr>\n",
       "  </tbody>\n",
       "</table>\n",
       "</div>"
      ],
      "text/plain": [
       "                False     True\n",
       "PassengerId  100000.0      NaN\n",
       "Survived     100000.0      NaN\n",
       "Pclass       100000.0      NaN\n",
       "Name         100000.0      NaN\n",
       "Sex          100000.0      NaN\n",
       "Age           96708.0   3292.0\n",
       "SibSp        100000.0      NaN\n",
       "Parch        100000.0      NaN\n",
       "Ticket        95377.0   4623.0\n",
       "Fare          99866.0    134.0\n",
       "Cabin         32134.0  67866.0\n",
       "Embarked      99750.0    250.0"
      ]
     },
     "execution_count": 27,
     "metadata": {},
     "output_type": "execute_result"
    }
   ],
   "source": [
    "df.isna().apply(pd.value_counts).T"
   ]
  },
  {
   "cell_type": "code",
   "execution_count": 101,
   "id": "7494d430",
   "metadata": {},
   "outputs": [],
   "source": [
    "df.drop(['Cabin'],axis=1,inplace=True)"
   ]
  },
  {
   "cell_type": "code",
   "execution_count": 29,
   "id": "bdb00f0b",
   "metadata": {},
   "outputs": [
    {
     "name": "stdout",
     "output_type": "stream",
     "text": [
      "<class 'pandas.core.frame.DataFrame'>\n",
      "RangeIndex: 100000 entries, 0 to 99999\n",
      "Data columns (total 11 columns):\n",
      " #   Column       Non-Null Count   Dtype  \n",
      "---  ------       --------------   -----  \n",
      " 0   PassengerId  100000 non-null  int64  \n",
      " 1   Survived     100000 non-null  int64  \n",
      " 2   Pclass       100000 non-null  int64  \n",
      " 3   Name         100000 non-null  object \n",
      " 4   Sex          100000 non-null  object \n",
      " 5   Age          96708 non-null   float64\n",
      " 6   SibSp        100000 non-null  int64  \n",
      " 7   Parch        100000 non-null  int64  \n",
      " 8   Ticket       95377 non-null   object \n",
      " 9   Fare         99866 non-null   float64\n",
      " 10  Embarked     99750 non-null   object \n",
      "dtypes: float64(2), int64(5), object(4)\n",
      "memory usage: 8.4+ MB\n"
     ]
    }
   ],
   "source": [
    "df.info()"
   ]
  },
  {
   "cell_type": "code",
   "execution_count": 30,
   "id": "3645f646",
   "metadata": {},
   "outputs": [],
   "source": [
    "df['Age'].fillna(df['Age'].median(),inplace=True)"
   ]
  },
  {
   "cell_type": "code",
   "execution_count": 31,
   "id": "a7179ea3",
   "metadata": {},
   "outputs": [],
   "source": [
    "df['Fare'].fillna(df['Fare'].median(),inplace=True)"
   ]
  },
  {
   "cell_type": "code",
   "execution_count": 32,
   "id": "ab4e0e19",
   "metadata": {},
   "outputs": [],
   "source": [
    "from sklearn.preprocessing import LabelEncoder\n",
    "le=LabelEncoder()"
   ]
  },
  {
   "cell_type": "code",
   "execution_count": 33,
   "id": "73a29bf4",
   "metadata": {},
   "outputs": [],
   "source": [
    "df['Name']=le.fit_transform(df['Name'])"
   ]
  },
  {
   "cell_type": "code",
   "execution_count": 34,
   "id": "1e97295d",
   "metadata": {},
   "outputs": [],
   "source": [
    "df['Sex']=le.fit_transform(df['Sex'])"
   ]
  },
  {
   "cell_type": "code",
   "execution_count": 35,
   "id": "f82411b4",
   "metadata": {},
   "outputs": [],
   "source": [
    "df['Ticket']=le.fit_transform(df['Ticket'])"
   ]
  },
  {
   "cell_type": "code",
   "execution_count": 36,
   "id": "468e850e",
   "metadata": {},
   "outputs": [],
   "source": [
    "df['Embarked']=le.fit_transform(df['Embarked'])"
   ]
  },
  {
   "cell_type": "code",
   "execution_count": 37,
   "id": "173398f3",
   "metadata": {},
   "outputs": [],
   "source": [
    "import matplotlib.pyplot as plt\n",
    "import seaborn as sns"
   ]
  },
  {
   "cell_type": "code",
   "execution_count": 38,
   "id": "a11811be",
   "metadata": {},
   "outputs": [],
   "source": [
    "corr=df.corr()"
   ]
  },
  {
   "cell_type": "code",
   "execution_count": 39,
   "id": "d10090e4",
   "metadata": {},
   "outputs": [
    {
     "data": {
      "image/png": "[encoded data removed]",
      "text/plain": [
       "<Figure size 2160x864 with 2 Axes>"
      ]
     },
     "metadata": {
      "needs_background": "light"
     },
     "output_type": "display_data"
    }
   ],
   "source": [
    "plt.figure(figsize=(30,12))\n",
    "sns.heatmap(corr,vmax=+1,vmin=-1,fmt='g',cmap='RdYlGn',annot=True)\n",
    "plt.title('correlation_matrix',fontsize=20)\n",
    "plt.show()"
   ]
  },
  {
   "cell_type": "code",
   "execution_count": 40,
   "id": "61fd43d5",
   "metadata": {},
   "outputs": [],
   "source": [
    "a=corr[['Survived']]"
   ]
  },
  {
   "cell_type": "code",
   "execution_count": 41,
   "id": "a5475c07",
   "metadata": {},
   "outputs": [
    {
     "data": {
      "image/png": "[encoded data removed]",
      "text/plain": [
       "<Figure size 2160x864 with 2 Axes>"
      ]
     },
     "metadata": {
      "needs_background": "light"
     },
     "output_type": "display_data"
    }
   ],
   "source": [
    "plt.figure(figsize=(30,12))\n",
    "sns.heatmap(a,vmax=+1,vmin=-1,fmt='g',cmap='RdYlGn',annot=True)\n",
    "plt.title('correlation_matrix',fontsize=20)\n",
    "plt.show()"
   ]
  },
  {
   "cell_type": "code",
   "execution_count": 42,
   "id": "1e833436",
   "metadata": {},
   "outputs": [
    {
     "data": {
      "text/plain": [
       "Index(['PassengerId', 'Survived', 'Pclass', 'Name', 'Sex', 'Age', 'SibSp',\n",
       "       'Parch', 'Ticket', 'Fare', 'Embarked'],\n",
       "      dtype='object')"
      ]
     },
     "execution_count": 42,
     "metadata": {},
     "output_type": "execute_result"
    }
   ],
   "source": [
    "df.columns"
   ]
  },
  {
   "cell_type": "code",
   "execution_count": 43,
   "id": "1f455dde",
   "metadata": {},
   "outputs": [],
   "source": [
    "x=df.drop('Survived',axis=1)"
   ]
  },
  {
   "cell_type": "code",
   "execution_count": 44,
   "id": "494d3d8b",
   "metadata": {},
   "outputs": [],
   "source": [
    "y=df[['Survived']]"
   ]
  },
  {
   "cell_type": "code",
   "execution_count": 45,
   "id": "c222cc09",
   "metadata": {},
   "outputs": [],
   "source": [
    "from sklearn.model_selection import train_test_split"
   ]
  },
  {
   "cell_type": "code",
   "execution_count": 46,
   "id": "f70fd630",
   "metadata": {},
   "outputs": [],
   "source": [
    "x_train,x_test,y_train,y_test=train_test_split(x,y,test_size=0.3,random_state=1)"
   ]
  },
  {
   "cell_type": "code",
   "execution_count": 47,
   "id": "ddc847b2",
   "metadata": {},
   "outputs": [],
   "source": [
    "from sklearn.linear_model import LogisticRegression"
   ]
  },
  {
   "cell_type": "code",
   "execution_count": 48,
   "id": "32d1b537",
   "metadata": {},
   "outputs": [],
   "source": [
    "model=LogisticRegression()"
   ]
  },
  {
   "cell_type": "code",
   "execution_count": 49,
   "id": "cd4767fa",
   "metadata": {},
   "outputs": [
    {
     "name": "stderr",
     "output_type": "stream",
     "text": [
      "C:\\Users\\hp\\anaconda3\\lib\\site-packages\\sklearn\\utils\\validation.py:63: DataConversionWarning: A column-vector y was passed when a 1d array was expected. Please change the shape of y to (n_samples, ), for example using ravel().\n",
      "  return f(*args, **kwargs)\n"
     ]
    },
    {
     "data": {
      "text/plain": [
       "LogisticRegression()"
      ]
     },
     "execution_count": 49,
     "metadata": {},
     "output_type": "execute_result"
    }
   ],
   "source": [
    "model.fit(x_train,y_train)"
   ]
  },
  {
   "cell_type": "code",
   "execution_count": 50,
   "id": "e245e8a0",
   "metadata": {},
   "outputs": [],
   "source": [
    "y_pred=model.predict(x_test)"
   ]
  },
  {
   "cell_type": "code",
   "execution_count": 51,
   "id": "dc1e8bc8",
   "metadata": {},
   "outputs": [
    {
     "data": {
      "text/plain": [
       "70.71333333333332"
      ]
     },
     "execution_count": 51,
     "metadata": {},
     "output_type": "execute_result"
    }
   ],
   "source": [
    "model.score(x_test,y_test)*100"
   ]
  },
  {
   "cell_type": "code",
   "execution_count": 52,
   "id": "37c10659",
   "metadata": {},
   "outputs": [],
   "source": [
    "from sklearn.metrics import accuracy_score\n",
    "from sklearn.metrics import classification_report\n",
    "from sklearn.metrics import confusion_matrix"
   ]
  },
  {
   "cell_type": "code",
   "execution_count": 53,
   "id": "6106395b",
   "metadata": {},
   "outputs": [],
   "source": [
    "cf=confusion_matrix(y_test,y_pred)"
   ]
  },
  {
   "cell_type": "code",
   "execution_count": 54,
   "id": "159277ea",
   "metadata": {},
   "outputs": [
    {
     "data": {
      "text/plain": [
       "array([[14637,  2576],\n",
       "       [ 6210,  6577]], dtype=int64)"
      ]
     },
     "execution_count": 54,
     "metadata": {},
     "output_type": "execute_result"
    }
   ],
   "source": [
    "cf"
   ]
  },
  {
   "cell_type": "code",
   "execution_count": 55,
   "id": "a381bb03",
   "metadata": {},
   "outputs": [
    {
     "data": {
      "text/plain": [
       "Text(0.5, 1.0, 'confusion matrix')"
      ]
     },
     "execution_count": 55,
     "metadata": {},
     "output_type": "execute_result"
    },
    {
     "data": {
      "image/png": "[encoded data removed]",
      "text/plain": [
       "<Figure size 864x360 with 2 Axes>"
      ]
     },
     "metadata": {
      "needs_background": "light"
     },
     "output_type": "display_data"
    }
   ],
   "source": [
    "plt.figure(figsize=(12,5))\n",
    "sns.heatmap(cf,annot=True,fmt='g',cmap='Blues')\n",
    "plt.title('confusion matrix',fontsize=20)"
   ]
  },
  {
   "cell_type": "code",
   "execution_count": 56,
   "id": "23f8ce82",
   "metadata": {},
   "outputs": [],
   "source": [
    "from sklearn.tree import DecisionTreeClassifier"
   ]
  },
  {
   "cell_type": "code",
   "execution_count": 57,
   "id": "dd027ccc",
   "metadata": {},
   "outputs": [],
   "source": [
    "model1=DecisionTreeClassifier(criterion='entropy',max_depth=5)"
   ]
  },
  {
   "cell_type": "code",
   "execution_count": 58,
   "id": "663fff16",
   "metadata": {},
   "outputs": [
    {
     "data": {
      "text/plain": [
       "DecisionTreeClassifier(criterion='entropy', max_depth=5)"
      ]
     },
     "execution_count": 58,
     "metadata": {},
     "output_type": "execute_result"
    }
   ],
   "source": [
    "model1.fit(x_train,y_train)"
   ]
  },
  {
   "cell_type": "code",
   "execution_count": 59,
   "id": "7a57c200",
   "metadata": {},
   "outputs": [],
   "source": [
    "y_pred1=model.predict(x_test)"
   ]
  },
  {
   "cell_type": "code",
   "execution_count": 60,
   "id": "e6a5aee3",
   "metadata": {},
   "outputs": [
    {
     "data": {
      "text/plain": [
       "77.07428571428572"
      ]
     },
     "execution_count": 60,
     "metadata": {},
     "output_type": "execute_result"
    }
   ],
   "source": [
    "model1.score(x_train,y_train)*100"
   ]
  },
  {
   "cell_type": "code",
   "execution_count": 61,
   "id": "656a30d3",
   "metadata": {},
   "outputs": [
    {
     "data": {
      "text/plain": [
       "76.96666666666667"
      ]
     },
     "execution_count": 61,
     "metadata": {},
     "output_type": "execute_result"
    }
   ],
   "source": [
    "model1.score(x_test,y_test)*100"
   ]
  },
  {
   "cell_type": "code",
   "execution_count": 62,
   "id": "c1c8ddb7",
   "metadata": {},
   "outputs": [],
   "source": [
    "from sklearn.ensemble import RandomForestClassifier"
   ]
  },
  {
   "cell_type": "code",
   "execution_count": 63,
   "id": "702ecbb1",
   "metadata": {},
   "outputs": [],
   "source": [
    "model2=RandomForestClassifier(n_estimators=500,criterion='entropy',max_depth=10)"
   ]
  },
  {
   "cell_type": "code",
   "execution_count": 64,
   "id": "f2b22ce1",
   "metadata": {},
   "outputs": [
    {
     "name": "stderr",
     "output_type": "stream",
     "text": [
      "C:\\Users\\hp\\AppData\\Local\\Temp/ipykernel_14652/2848998269.py:1: DataConversionWarning: A column-vector y was passed when a 1d array was expected. Please change the shape of y to (n_samples,), for example using ravel().\n",
      "  model2.fit(x_train,y_train)\n"
     ]
    },
    {
     "data": {
      "text/plain": [
       "RandomForestClassifier(criterion='entropy', max_depth=10, n_estimators=500)"
      ]
     },
     "execution_count": 64,
     "metadata": {},
     "output_type": "execute_result"
    }
   ],
   "source": [
    "model2.fit(x_train,y_train)"
   ]
  },
  {
   "cell_type": "code",
   "execution_count": 65,
   "id": "e82a5bff",
   "metadata": {},
   "outputs": [],
   "source": [
    "ypred2=model2.predict(x_test)"
   ]
  },
  {
   "cell_type": "code",
   "execution_count": 66,
   "id": "33e72459",
   "metadata": {},
   "outputs": [
    {
     "data": {
      "text/plain": [
       "79.43857142857142"
      ]
     },
     "execution_count": 66,
     "metadata": {},
     "output_type": "execute_result"
    }
   ],
   "source": [
    "model2.score(x_train,y_train)*100"
   ]
  },
  {
   "cell_type": "code",
   "execution_count": 67,
   "id": "bfdf13bb",
   "metadata": {},
   "outputs": [
    {
     "data": {
      "text/plain": [
       "77.49333333333334"
      ]
     },
     "execution_count": 67,
     "metadata": {},
     "output_type": "execute_result"
    }
   ],
   "source": [
    "model2.score(x_test,y_test)*100"
   ]
  },
  {
   "cell_type": "code",
   "execution_count": 68,
   "id": "8e501721",
   "metadata": {},
   "outputs": [],
   "source": [
    "from sklearn.ensemble import AdaBoostClassifier"
   ]
  },
  {
   "cell_type": "code",
   "execution_count": 69,
   "id": "1d4b99ef",
   "metadata": {},
   "outputs": [],
   "source": [
    "model3=AdaBoostClassifier()"
   ]
  },
  {
   "cell_type": "code",
   "execution_count": 70,
   "id": "b604799e",
   "metadata": {},
   "outputs": [
    {
     "name": "stderr",
     "output_type": "stream",
     "text": [
      "C:\\Users\\hp\\anaconda3\\lib\\site-packages\\sklearn\\utils\\validation.py:63: DataConversionWarning: A column-vector y was passed when a 1d array was expected. Please change the shape of y to (n_samples, ), for example using ravel().\n",
      "  return f(*args, **kwargs)\n"
     ]
    },
    {
     "data": {
      "text/plain": [
       "AdaBoostClassifier()"
      ]
     },
     "execution_count": 70,
     "metadata": {},
     "output_type": "execute_result"
    }
   ],
   "source": [
    "model3.fit(x_train,y_train)"
   ]
  },
  {
   "cell_type": "code",
   "execution_count": 71,
   "id": "91b5b56d",
   "metadata": {},
   "outputs": [],
   "source": [
    "y_pred3=model3.predict(x_test)"
   ]
  },
  {
   "cell_type": "code",
   "execution_count": 72,
   "id": "9e7a3cae",
   "metadata": {},
   "outputs": [
    {
     "data": {
      "text/plain": [
       "77.27666666666667"
      ]
     },
     "execution_count": 72,
     "metadata": {},
     "output_type": "execute_result"
    }
   ],
   "source": [
    "accuracy_score(y_test,y_pred3)*100"
   ]
  },
  {
   "cell_type": "code",
   "execution_count": 73,
   "id": "9a130486",
   "metadata": {},
   "outputs": [
    {
     "data": {
      "text/plain": [
       "77.42999999999999"
      ]
     },
     "execution_count": 73,
     "metadata": {},
     "output_type": "execute_result"
    }
   ],
   "source": [
    "model3.score(x_train,y_train)*100"
   ]
  },
  {
   "cell_type": "code",
   "execution_count": 74,
   "id": "29fc0b34",
   "metadata": {},
   "outputs": [],
   "source": [
    "from sklearn.ensemble import GradientBoostingClassifier"
   ]
  },
  {
   "cell_type": "code",
   "execution_count": 75,
   "id": "139732c8",
   "metadata": {},
   "outputs": [],
   "source": [
    "model4=GradientBoostingClassifier()"
   ]
  },
  {
   "cell_type": "code",
   "execution_count": 76,
   "id": "6cb56583",
   "metadata": {},
   "outputs": [
    {
     "name": "stderr",
     "output_type": "stream",
     "text": [
      "C:\\Users\\hp\\anaconda3\\lib\\site-packages\\sklearn\\utils\\validation.py:63: DataConversionWarning: A column-vector y was passed when a 1d array was expected. Please change the shape of y to (n_samples, ), for example using ravel().\n",
      "  return f(*args, **kwargs)\n"
     ]
    },
    {
     "data": {
      "text/plain": [
       "GradientBoostingClassifier()"
      ]
     },
     "execution_count": 76,
     "metadata": {},
     "output_type": "execute_result"
    }
   ],
   "source": [
    "model4.fit(x_train,y_train)"
   ]
  },
  {
   "cell_type": "code",
   "execution_count": 77,
   "id": "f909f935",
   "metadata": {},
   "outputs": [],
   "source": [
    "y_pred4=model4.predict(x_test)"
   ]
  },
  {
   "cell_type": "code",
   "execution_count": 78,
   "id": "46336c5f",
   "metadata": {},
   "outputs": [
    {
     "data": {
      "text/plain": [
       "77.75857142857143"
      ]
     },
     "execution_count": 78,
     "metadata": {},
     "output_type": "execute_result"
    }
   ],
   "source": [
    "model4.score(x_train,y_train)*100"
   ]
  },
  {
   "cell_type": "code",
   "execution_count": 79,
   "id": "cc326c18",
   "metadata": {},
   "outputs": [
    {
     "data": {
      "text/plain": [
       "77.49333333333334"
      ]
     },
     "execution_count": 79,
     "metadata": {},
     "output_type": "execute_result"
    }
   ],
   "source": [
    "accuracy_score(y_test,y_pred4)*100"
   ]
  },
  {
   "cell_type": "code",
   "execution_count": 80,
   "id": "056784fe",
   "metadata": {},
   "outputs": [],
   "source": [
    "from xgboost import XGBClassifier"
   ]
  },
  {
   "cell_type": "code",
   "execution_count": 81,
   "id": "98f74040",
   "metadata": {},
   "outputs": [],
   "source": [
    "model5=XGBClassifier()"
   ]
  },
  {
   "cell_type": "code",
   "execution_count": 82,
   "id": "df6707ea",
   "metadata": {},
   "outputs": [
    {
     "name": "stderr",
     "output_type": "stream",
     "text": [
      "C:\\Users\\hp\\anaconda3\\lib\\site-packages\\xgboost\\sklearn.py:1224: UserWarning: The use of label encoder in XGBClassifier is deprecated and will be removed in a future release. To remove this warning, do the following: 1) Pass option use_label_encoder=False when constructing XGBClassifier object; and 2) Encode your labels (y) as integers starting with 0, i.e. 0, 1, 2, ..., [num_class - 1].\n",
      "  warnings.warn(label_encoder_deprecation_msg, UserWarning)\n",
      "C:\\Users\\hp\\anaconda3\\lib\\site-packages\\sklearn\\utils\\validation.py:63: DataConversionWarning: A column-vector y was passed when a 1d array was expected. Please change the shape of y to (n_samples, ), for example using ravel().\n",
      "  return f(*args, **kwargs)\n"
     ]
    },
    {
     "name": "stdout",
     "output_type": "stream",
     "text": [
      "[13:34:53] WARNING: D:\\bld\\xgboost-split_1645118015404\\work\\src\\learner.cc:1115: Starting in XGBoost 1.3.0, the default evaluation metric used with the objective 'binary:logistic' was changed from 'error' to 'logloss'. Explicitly set eval_metric if you'd like to restore the old behavior.\n"
     ]
    },
    {
     "data": {
      "text/plain": [
       "XGBClassifier(base_score=0.5, booster='gbtree', colsample_bylevel=1,\n",
       "              colsample_bynode=1, colsample_bytree=1, enable_categorical=False,\n",
       "              gamma=0, gpu_id=-1, importance_type=None,\n",
       "              interaction_constraints='', learning_rate=0.300000012,\n",
       "              max_delta_step=0, max_depth=6, min_child_weight=1, missing=nan,\n",
       "              monotone_constraints='()', n_estimators=100, n_jobs=4,\n",
       "              num_parallel_tree=1, predictor='auto', random_state=0,\n",
       "              reg_alpha=0, reg_lambda=1, scale_pos_weight=1, subsample=1,\n",
       "              tree_method='exact', validate_parameters=1, verbosity=None)"
      ]
     },
     "execution_count": 82,
     "metadata": {},
     "output_type": "execute_result"
    }
   ],
   "source": [
    "model5.fit(x_train,y_train)"
   ]
  },
  {
   "cell_type": "code",
   "execution_count": 83,
   "id": "efc85e55",
   "metadata": {},
   "outputs": [],
   "source": [
    "y_pred5=model5.predict(x_test)"
   ]
  },
  {
   "cell_type": "code",
   "execution_count": 84,
   "id": "c98ff26e",
   "metadata": {},
   "outputs": [
    {
     "data": {
      "text/plain": [
       "77.15333333333334"
      ]
     },
     "execution_count": 84,
     "metadata": {},
     "output_type": "execute_result"
    }
   ],
   "source": [
    "accuracy_score(y_test,y_pred5)*100"
   ]
  },
  {
   "cell_type": "code",
   "execution_count": 85,
   "id": "d7744579",
   "metadata": {},
   "outputs": [
    {
     "data": {
      "text/plain": [
       "81.55571428571429"
      ]
     },
     "execution_count": 85,
     "metadata": {},
     "output_type": "execute_result"
    }
   ],
   "source": [
    "model5.score(x_train,y_train)*100"
   ]
  },
  {
   "cell_type": "code",
   "execution_count": 86,
   "id": "6e9263bb",
   "metadata": {},
   "outputs": [],
   "source": [
    "from catboost import CatBoostClassifier"
   ]
  },
  {
   "cell_type": "code",
   "execution_count": 88,
   "id": "e0125bbc",
   "metadata": {},
   "outputs": [],
   "source": [
    "model6= CatBoostClassifier()"
   ]
  },
  {
   "cell_type": "code",
   "execution_count": 89,
   "id": "a4257678",
   "metadata": {},
   "outputs": [
    {
     "name": "stdout",
     "output_type": "stream",
     "text": [
      "Learning rate set to 0.063211\n",
      "0:\tlearn: 0.6665772\ttotal: 190ms\tremaining: 3m 10s\n",
      "1:\tlearn: 0.6430707\ttotal: 255ms\tremaining: 2m 7s\n",
      "2:\tlearn: 0.6217577\ttotal: 323ms\tremaining: 1m 47s\n",
      "3:\tlearn: 0.6036676\ttotal: 346ms\tremaining: 1m 26s\n",
      "4:\tlearn: 0.5878623\ttotal: 404ms\tremaining: 1m 20s\n",
      "5:\tlearn: 0.5750299\ttotal: 428ms\tremaining: 1m 10s\n",
      "6:\tlearn: 0.5635680\ttotal: 450ms\tremaining: 1m 3s\n",
      "7:\tlearn: 0.5537554\ttotal: 472ms\tremaining: 58.5s\n",
      "8:\tlearn: 0.5453965\ttotal: 497ms\tremaining: 54.7s\n",
      "9:\tlearn: 0.5380169\ttotal: 524ms\tremaining: 51.9s\n",
      "10:\tlearn: 0.5316616\ttotal: 547ms\tremaining: 49.2s\n",
      "11:\tlearn: 0.5263514\ttotal: 570ms\tremaining: 46.9s\n",
      "12:\tlearn: 0.5217003\ttotal: 594ms\tremaining: 45.1s\n",
      "13:\tlearn: 0.5175886\ttotal: 623ms\tremaining: 43.9s\n",
      "14:\tlearn: 0.5139250\ttotal: 646ms\tremaining: 42.4s\n",
      "15:\tlearn: 0.5111097\ttotal: 669ms\tremaining: 41.1s\n",
      "16:\tlearn: 0.5077860\ttotal: 695ms\tremaining: 40.2s\n",
      "17:\tlearn: 0.5053655\ttotal: 720ms\tremaining: 39.3s\n",
      "18:\tlearn: 0.5032034\ttotal: 742ms\tremaining: 38.3s\n",
      "19:\tlearn: 0.5012901\ttotal: 760ms\tremaining: 37.2s\n",
      "20:\tlearn: 0.4994628\ttotal: 778ms\tremaining: 36.3s\n",
      "21:\tlearn: 0.4980895\ttotal: 796ms\tremaining: 35.4s\n",
      "22:\tlearn: 0.4967577\ttotal: 815ms\tremaining: 34.6s\n",
      "23:\tlearn: 0.4952973\ttotal: 843ms\tremaining: 34.3s\n",
      "24:\tlearn: 0.4940254\ttotal: 863ms\tremaining: 33.6s\n",
      "25:\tlearn: 0.4930021\ttotal: 882ms\tremaining: 33.1s\n",
      "26:\tlearn: 0.4918911\ttotal: 901ms\tremaining: 32.5s\n",
      "27:\tlearn: 0.4909184\ttotal: 921ms\tremaining: 32s\n",
      "28:\tlearn: 0.4902781\ttotal: 941ms\tremaining: 31.5s\n",
      "29:\tlearn: 0.4895204\ttotal: 959ms\tremaining: 31s\n",
      "30:\tlearn: 0.4887984\ttotal: 976ms\tremaining: 30.5s\n",
      "31:\tlearn: 0.4881459\ttotal: 992ms\tremaining: 30s\n",
      "32:\tlearn: 0.4875469\ttotal: 1.01s\tremaining: 29.5s\n",
      "33:\tlearn: 0.4869862\ttotal: 1.03s\tremaining: 29.2s\n",
      "34:\tlearn: 0.4863677\ttotal: 1.05s\tremaining: 29.1s\n",
      "35:\tlearn: 0.4858799\ttotal: 1.07s\tremaining: 28.7s\n",
      "36:\tlearn: 0.4853675\ttotal: 1.09s\tremaining: 28.3s\n",
      "37:\tlearn: 0.4848945\ttotal: 1.12s\tremaining: 28.3s\n",
      "38:\tlearn: 0.4845040\ttotal: 1.14s\tremaining: 28.1s\n",
      "39:\tlearn: 0.4840961\ttotal: 1.17s\tremaining: 28.1s\n",
      "40:\tlearn: 0.4837570\ttotal: 1.22s\tremaining: 28.6s\n",
      "41:\tlearn: 0.4834791\ttotal: 1.26s\tremaining: 28.7s\n",
      "42:\tlearn: 0.4830711\ttotal: 1.32s\tremaining: 29.3s\n",
      "43:\tlearn: 0.4827417\ttotal: 1.34s\tremaining: 29.2s\n",
      "44:\tlearn: 0.4824425\ttotal: 1.37s\tremaining: 29.1s\n",
      "45:\tlearn: 0.4821832\ttotal: 1.4s\tremaining: 29s\n",
      "46:\tlearn: 0.4819068\ttotal: 1.42s\tremaining: 28.8s\n",
      "47:\tlearn: 0.4816630\ttotal: 1.45s\tremaining: 28.7s\n",
      "48:\tlearn: 0.4814219\ttotal: 1.47s\tremaining: 28.6s\n",
      "49:\tlearn: 0.4810581\ttotal: 1.49s\tremaining: 28.4s\n",
      "50:\tlearn: 0.4808948\ttotal: 1.51s\tremaining: 28.2s\n",
      "51:\tlearn: 0.4806772\ttotal: 1.55s\tremaining: 28.2s\n",
      "52:\tlearn: 0.4804812\ttotal: 1.57s\tremaining: 28.1s\n",
      "53:\tlearn: 0.4803362\ttotal: 1.59s\tremaining: 27.9s\n",
      "54:\tlearn: 0.4801763\ttotal: 1.62s\tremaining: 27.8s\n",
      "55:\tlearn: 0.4799472\ttotal: 1.64s\tremaining: 27.6s\n",
      "56:\tlearn: 0.4797861\ttotal: 1.66s\tremaining: 27.5s\n",
      "57:\tlearn: 0.4795831\ttotal: 1.68s\tremaining: 27.3s\n",
      "58:\tlearn: 0.4793930\ttotal: 1.7s\tremaining: 27.1s\n",
      "59:\tlearn: 0.4791991\ttotal: 1.72s\tremaining: 26.9s\n",
      "60:\tlearn: 0.4790659\ttotal: 1.74s\tremaining: 26.8s\n",
      "61:\tlearn: 0.4789108\ttotal: 1.76s\tremaining: 26.7s\n",
      "62:\tlearn: 0.4787588\ttotal: 1.78s\tremaining: 26.5s\n",
      "63:\tlearn: 0.4786038\ttotal: 1.8s\tremaining: 26.3s\n",
      "64:\tlearn: 0.4784477\ttotal: 1.82s\tremaining: 26.1s\n",
      "65:\tlearn: 0.4783108\ttotal: 1.83s\tremaining: 26s\n",
      "66:\tlearn: 0.4782217\ttotal: 1.85s\tremaining: 25.8s\n",
      "67:\tlearn: 0.4781097\ttotal: 1.86s\tremaining: 25.6s\n",
      "68:\tlearn: 0.4779915\ttotal: 1.88s\tremaining: 25.4s\n",
      "69:\tlearn: 0.4778255\ttotal: 1.9s\tremaining: 25.2s\n",
      "70:\tlearn: 0.4776528\ttotal: 1.91s\tremaining: 25s\n",
      "71:\tlearn: 0.4775538\ttotal: 1.93s\tremaining: 24.9s\n",
      "72:\tlearn: 0.4773796\ttotal: 1.96s\tremaining: 24.8s\n",
      "73:\tlearn: 0.4772470\ttotal: 1.98s\tremaining: 24.8s\n",
      "74:\tlearn: 0.4771359\ttotal: 2s\tremaining: 24.7s\n",
      "75:\tlearn: 0.4769898\ttotal: 2.03s\tremaining: 24.7s\n",
      "76:\tlearn: 0.4769050\ttotal: 2.05s\tremaining: 24.6s\n",
      "77:\tlearn: 0.4767953\ttotal: 2.07s\tremaining: 24.5s\n",
      "78:\tlearn: 0.4766520\ttotal: 2.1s\tremaining: 24.4s\n",
      "79:\tlearn: 0.4765703\ttotal: 2.12s\tremaining: 24.4s\n",
      "80:\tlearn: 0.4764911\ttotal: 2.15s\tremaining: 24.4s\n",
      "81:\tlearn: 0.4763816\ttotal: 2.18s\tremaining: 24.4s\n",
      "82:\tlearn: 0.4763004\ttotal: 2.21s\tremaining: 24.4s\n",
      "83:\tlearn: 0.4762104\ttotal: 2.24s\tremaining: 24.4s\n",
      "84:\tlearn: 0.4760709\ttotal: 2.26s\tremaining: 24.3s\n",
      "85:\tlearn: 0.4760206\ttotal: 2.27s\tremaining: 24.2s\n",
      "86:\tlearn: 0.4759125\ttotal: 2.31s\tremaining: 24.3s\n",
      "87:\tlearn: 0.4758139\ttotal: 2.33s\tremaining: 24.2s\n",
      "88:\tlearn: 0.4757141\ttotal: 2.35s\tremaining: 24.1s\n",
      "89:\tlearn: 0.4756362\ttotal: 2.38s\tremaining: 24s\n",
      "90:\tlearn: 0.4755403\ttotal: 2.4s\tremaining: 23.9s\n",
      "91:\tlearn: 0.4754343\ttotal: 2.46s\tremaining: 24.3s\n",
      "92:\tlearn: 0.4753551\ttotal: 2.52s\tremaining: 24.6s\n",
      "93:\tlearn: 0.4752995\ttotal: 2.56s\tremaining: 24.7s\n",
      "94:\tlearn: 0.4752196\ttotal: 2.59s\tremaining: 24.6s\n",
      "95:\tlearn: 0.4751579\ttotal: 2.61s\tremaining: 24.6s\n",
      "96:\tlearn: 0.4751101\ttotal: 2.63s\tremaining: 24.5s\n",
      "97:\tlearn: 0.4750427\ttotal: 2.65s\tremaining: 24.4s\n",
      "98:\tlearn: 0.4749672\ttotal: 2.68s\tremaining: 24.4s\n",
      "99:\tlearn: 0.4748919\ttotal: 2.7s\tremaining: 24.3s\n",
      "100:\tlearn: 0.4747903\ttotal: 2.72s\tremaining: 24.2s\n",
      "101:\tlearn: 0.4746615\ttotal: 2.74s\tremaining: 24.1s\n",
      "102:\tlearn: 0.4745677\ttotal: 2.76s\tremaining: 24.1s\n",
      "103:\tlearn: 0.4744936\ttotal: 2.79s\tremaining: 24s\n",
      "104:\tlearn: 0.4744331\ttotal: 2.81s\tremaining: 23.9s\n",
      "105:\tlearn: 0.4743773\ttotal: 2.83s\tremaining: 23.9s\n",
      "106:\tlearn: 0.4742068\ttotal: 2.86s\tremaining: 23.8s\n",
      "107:\tlearn: 0.4741278\ttotal: 2.89s\tremaining: 23.8s\n",
      "108:\tlearn: 0.4740576\ttotal: 2.93s\tremaining: 23.9s\n",
      "109:\tlearn: 0.4739897\ttotal: 2.96s\tremaining: 24s\n",
      "110:\tlearn: 0.4739307\ttotal: 2.99s\tremaining: 23.9s\n",
      "111:\tlearn: 0.4738596\ttotal: 3.01s\tremaining: 23.9s\n",
      "112:\tlearn: 0.4737989\ttotal: 3.03s\tremaining: 23.8s\n",
      "113:\tlearn: 0.4737409\ttotal: 3.05s\tremaining: 23.7s\n",
      "114:\tlearn: 0.4736701\ttotal: 3.07s\tremaining: 23.7s\n",
      "115:\tlearn: 0.4736146\ttotal: 3.09s\tremaining: 23.6s\n",
      "116:\tlearn: 0.4735335\ttotal: 3.12s\tremaining: 23.5s\n",
      "117:\tlearn: 0.4734468\ttotal: 3.17s\tremaining: 23.7s\n",
      "118:\tlearn: 0.4733857\ttotal: 3.19s\tremaining: 23.6s\n",
      "119:\tlearn: 0.4733000\ttotal: 3.21s\tremaining: 23.6s\n",
      "120:\tlearn: 0.4732235\ttotal: 3.23s\tremaining: 23.5s\n",
      "121:\tlearn: 0.4731712\ttotal: 3.24s\tremaining: 23.4s\n",
      "122:\tlearn: 0.4731181\ttotal: 3.26s\tremaining: 23.2s\n",
      "123:\tlearn: 0.4730724\ttotal: 3.28s\tremaining: 23.2s\n",
      "124:\tlearn: 0.4730180\ttotal: 3.31s\tremaining: 23.1s\n",
      "125:\tlearn: 0.4729691\ttotal: 3.34s\tremaining: 23.2s\n",
      "126:\tlearn: 0.4729126\ttotal: 3.37s\tremaining: 23.2s\n",
      "127:\tlearn: 0.4728602\ttotal: 3.41s\tremaining: 23.2s\n",
      "128:\tlearn: 0.4728180\ttotal: 3.44s\tremaining: 23.2s\n",
      "129:\tlearn: 0.4727478\ttotal: 3.46s\tremaining: 23.2s\n",
      "130:\tlearn: 0.4726666\ttotal: 3.53s\tremaining: 23.4s\n",
      "131:\tlearn: 0.4726250\ttotal: 3.57s\tremaining: 23.5s\n",
      "132:\tlearn: 0.4725710\ttotal: 3.6s\tremaining: 23.5s\n",
      "133:\tlearn: 0.4725024\ttotal: 3.63s\tremaining: 23.4s\n",
      "134:\tlearn: 0.4724235\ttotal: 3.66s\tremaining: 23.4s\n",
      "135:\tlearn: 0.4723573\ttotal: 3.68s\tremaining: 23.4s\n",
      "136:\tlearn: 0.4722985\ttotal: 3.71s\tremaining: 23.4s\n",
      "137:\tlearn: 0.4721914\ttotal: 3.74s\tremaining: 23.3s\n",
      "138:\tlearn: 0.4721326\ttotal: 3.77s\tremaining: 23.3s\n",
      "139:\tlearn: 0.4720847\ttotal: 3.79s\tremaining: 23.3s\n",
      "140:\tlearn: 0.4720506\ttotal: 3.81s\tremaining: 23.2s\n",
      "141:\tlearn: 0.4719875\ttotal: 3.84s\tremaining: 23.2s\n",
      "142:\tlearn: 0.4718891\ttotal: 3.87s\tremaining: 23.2s\n",
      "143:\tlearn: 0.4718058\ttotal: 3.89s\tremaining: 23.1s\n",
      "144:\tlearn: 0.4717165\ttotal: 3.91s\tremaining: 23s\n",
      "145:\tlearn: 0.4716678\ttotal: 3.92s\tremaining: 22.9s\n",
      "146:\tlearn: 0.4715908\ttotal: 3.94s\tremaining: 22.9s\n",
      "147:\tlearn: 0.4715569\ttotal: 3.96s\tremaining: 22.8s\n",
      "148:\tlearn: 0.4715022\ttotal: 3.97s\tremaining: 22.7s\n",
      "149:\tlearn: 0.4714583\ttotal: 3.99s\tremaining: 22.6s\n",
      "150:\tlearn: 0.4714036\ttotal: 4s\tremaining: 22.5s\n",
      "151:\tlearn: 0.4713488\ttotal: 4.02s\tremaining: 22.4s\n",
      "152:\tlearn: 0.4712805\ttotal: 4.04s\tremaining: 22.3s\n",
      "153:\tlearn: 0.4712379\ttotal: 4.05s\tremaining: 22.3s\n",
      "154:\tlearn: 0.4711800\ttotal: 4.13s\tremaining: 22.5s\n",
      "155:\tlearn: 0.4710950\ttotal: 4.22s\tremaining: 22.8s\n",
      "156:\tlearn: 0.4710278\ttotal: 4.26s\tremaining: 22.9s\n",
      "157:\tlearn: 0.4709147\ttotal: 4.29s\tremaining: 22.9s\n",
      "158:\tlearn: 0.4708378\ttotal: 4.32s\tremaining: 22.9s\n",
      "159:\tlearn: 0.4707754\ttotal: 4.37s\tremaining: 22.9s\n",
      "160:\tlearn: 0.4707091\ttotal: 4.4s\tremaining: 22.9s\n",
      "161:\tlearn: 0.4706522\ttotal: 4.42s\tremaining: 22.9s\n",
      "162:\tlearn: 0.4705933\ttotal: 4.45s\tremaining: 22.8s\n",
      "163:\tlearn: 0.4705472\ttotal: 4.47s\tremaining: 22.8s\n",
      "164:\tlearn: 0.4704925\ttotal: 4.53s\tremaining: 22.9s\n",
      "165:\tlearn: 0.4704468\ttotal: 4.56s\tremaining: 22.9s\n",
      "166:\tlearn: 0.4704055\ttotal: 4.58s\tremaining: 22.9s\n",
      "167:\tlearn: 0.4703326\ttotal: 4.62s\tremaining: 22.9s\n",
      "168:\tlearn: 0.4702609\ttotal: 4.64s\tremaining: 22.8s\n",
      "169:\tlearn: 0.4702198\ttotal: 4.66s\tremaining: 22.8s\n",
      "170:\tlearn: 0.4701874\ttotal: 4.68s\tremaining: 22.7s\n",
      "171:\tlearn: 0.4700624\ttotal: 4.72s\tremaining: 22.7s\n",
      "172:\tlearn: 0.4700179\ttotal: 4.77s\tremaining: 22.8s\n",
      "173:\tlearn: 0.4699724\ttotal: 4.83s\tremaining: 22.9s\n",
      "174:\tlearn: 0.4699269\ttotal: 4.87s\tremaining: 23s\n",
      "175:\tlearn: 0.4698920\ttotal: 4.9s\tremaining: 22.9s\n",
      "176:\tlearn: 0.4698257\ttotal: 4.93s\tremaining: 22.9s\n",
      "177:\tlearn: 0.4697649\ttotal: 4.95s\tremaining: 22.9s\n",
      "178:\tlearn: 0.4697171\ttotal: 4.97s\tremaining: 22.8s\n",
      "179:\tlearn: 0.4696388\ttotal: 5s\tremaining: 22.8s\n",
      "180:\tlearn: 0.4695780\ttotal: 5.03s\tremaining: 22.8s\n",
      "181:\tlearn: 0.4695130\ttotal: 5.06s\tremaining: 22.7s\n",
      "182:\tlearn: 0.4694493\ttotal: 5.12s\tremaining: 22.9s\n",
      "183:\tlearn: 0.4693988\ttotal: 5.16s\tremaining: 22.9s\n",
      "184:\tlearn: 0.4693218\ttotal: 5.19s\tremaining: 22.9s\n",
      "185:\tlearn: 0.4692566\ttotal: 5.22s\tremaining: 22.8s\n",
      "186:\tlearn: 0.4691833\ttotal: 5.25s\tremaining: 22.8s\n",
      "187:\tlearn: 0.4690933\ttotal: 5.27s\tremaining: 22.8s\n",
      "188:\tlearn: 0.4690418\ttotal: 5.3s\tremaining: 22.7s\n",
      "189:\tlearn: 0.4689940\ttotal: 5.32s\tremaining: 22.7s\n",
      "190:\tlearn: 0.4689196\ttotal: 5.34s\tremaining: 22.6s\n",
      "191:\tlearn: 0.4688395\ttotal: 5.37s\tremaining: 22.6s\n",
      "192:\tlearn: 0.4687742\ttotal: 5.39s\tremaining: 22.5s\n",
      "193:\tlearn: 0.4687226\ttotal: 5.41s\tremaining: 22.5s\n",
      "194:\tlearn: 0.4686580\ttotal: 5.43s\tremaining: 22.4s\n",
      "195:\tlearn: 0.4686065\ttotal: 5.48s\tremaining: 22.5s\n",
      "196:\tlearn: 0.4685525\ttotal: 5.58s\tremaining: 22.7s\n",
      "197:\tlearn: 0.4684948\ttotal: 5.63s\tremaining: 22.8s\n",
      "198:\tlearn: 0.4684312\ttotal: 5.68s\tremaining: 22.8s\n",
      "199:\tlearn: 0.4683427\ttotal: 5.71s\tremaining: 22.8s\n",
      "200:\tlearn: 0.4683041\ttotal: 5.74s\tremaining: 22.8s\n",
      "201:\tlearn: 0.4682409\ttotal: 5.82s\tremaining: 23s\n",
      "202:\tlearn: 0.4681898\ttotal: 5.91s\tremaining: 23.2s\n",
      "203:\tlearn: 0.4681141\ttotal: 6.02s\tremaining: 23.5s\n",
      "204:\tlearn: 0.4680520\ttotal: 6.09s\tremaining: 23.6s\n",
      "205:\tlearn: 0.4680037\ttotal: 6.19s\tremaining: 23.9s\n",
      "206:\tlearn: 0.4679385\ttotal: 6.25s\tremaining: 23.9s\n",
      "207:\tlearn: 0.4678660\ttotal: 6.3s\tremaining: 24s\n",
      "208:\tlearn: 0.4678183\ttotal: 6.36s\tremaining: 24.1s\n",
      "209:\tlearn: 0.4677466\ttotal: 6.43s\tremaining: 24.2s\n",
      "210:\tlearn: 0.4676878\ttotal: 6.48s\tremaining: 24.2s\n",
      "211:\tlearn: 0.4676138\ttotal: 6.53s\tremaining: 24.3s\n",
      "212:\tlearn: 0.4675457\ttotal: 6.57s\tremaining: 24.3s\n",
      "213:\tlearn: 0.4674690\ttotal: 6.61s\tremaining: 24.3s\n",
      "214:\tlearn: 0.4673987\ttotal: 6.64s\tremaining: 24.2s\n",
      "215:\tlearn: 0.4673419\ttotal: 6.67s\tremaining: 24.2s\n",
      "216:\tlearn: 0.4672672\ttotal: 6.7s\tremaining: 24.2s\n",
      "217:\tlearn: 0.4671985\ttotal: 6.73s\tremaining: 24.2s\n",
      "218:\tlearn: 0.4671266\ttotal: 6.76s\tremaining: 24.1s\n",
      "219:\tlearn: 0.4670565\ttotal: 6.79s\tremaining: 24.1s\n",
      "220:\tlearn: 0.4670094\ttotal: 6.82s\tremaining: 24s\n",
      "221:\tlearn: 0.4669412\ttotal: 6.84s\tremaining: 24s\n",
      "222:\tlearn: 0.4668410\ttotal: 6.87s\tremaining: 23.9s\n",
      "223:\tlearn: 0.4667742\ttotal: 6.89s\tremaining: 23.9s\n",
      "224:\tlearn: 0.4667123\ttotal: 6.91s\tremaining: 23.8s\n",
      "225:\tlearn: 0.4666526\ttotal: 6.94s\tremaining: 23.8s\n",
      "226:\tlearn: 0.4665877\ttotal: 6.96s\tremaining: 23.7s\n",
      "227:\tlearn: 0.4665044\ttotal: 6.98s\tremaining: 23.6s\n",
      "228:\tlearn: 0.4664507\ttotal: 7.01s\tremaining: 23.6s\n",
      "229:\tlearn: 0.4663750\ttotal: 7.03s\tremaining: 23.5s\n",
      "230:\tlearn: 0.4663114\ttotal: 7.05s\tremaining: 23.5s\n",
      "231:\tlearn: 0.4662623\ttotal: 7.14s\tremaining: 23.6s\n",
      "232:\tlearn: 0.4661984\ttotal: 7.16s\tremaining: 23.6s\n",
      "233:\tlearn: 0.4661283\ttotal: 7.18s\tremaining: 23.5s\n",
      "234:\tlearn: 0.4660662\ttotal: 7.21s\tremaining: 23.5s\n",
      "235:\tlearn: 0.4660115\ttotal: 7.23s\tremaining: 23.4s\n",
      "236:\tlearn: 0.4659458\ttotal: 7.25s\tremaining: 23.3s\n",
      "237:\tlearn: 0.4659015\ttotal: 7.27s\tremaining: 23.3s\n",
      "238:\tlearn: 0.4658305\ttotal: 7.29s\tremaining: 23.2s\n",
      "239:\tlearn: 0.4657959\ttotal: 7.31s\tremaining: 23.1s\n",
      "240:\tlearn: 0.4657328\ttotal: 7.33s\tremaining: 23.1s\n",
      "241:\tlearn: 0.4656759\ttotal: 7.37s\tremaining: 23.1s\n",
      "242:\tlearn: 0.4656087\ttotal: 7.39s\tremaining: 23s\n",
      "243:\tlearn: 0.4655354\ttotal: 7.41s\tremaining: 23s\n",
      "244:\tlearn: 0.4654719\ttotal: 7.44s\tremaining: 22.9s\n",
      "245:\tlearn: 0.4654292\ttotal: 7.46s\tremaining: 22.9s\n",
      "246:\tlearn: 0.4653704\ttotal: 7.48s\tremaining: 22.8s\n",
      "247:\tlearn: 0.4653236\ttotal: 7.5s\tremaining: 22.8s\n",
      "248:\tlearn: 0.4652833\ttotal: 7.53s\tremaining: 22.7s\n",
      "249:\tlearn: 0.4652287\ttotal: 7.55s\tremaining: 22.6s\n",
      "250:\tlearn: 0.4651722\ttotal: 7.58s\tremaining: 22.6s\n",
      "251:\tlearn: 0.4651021\ttotal: 7.6s\tremaining: 22.6s\n",
      "252:\tlearn: 0.4650228\ttotal: 7.62s\tremaining: 22.5s\n",
      "253:\tlearn: 0.4649590\ttotal: 7.64s\tremaining: 22.4s\n",
      "254:\tlearn: 0.4648966\ttotal: 7.67s\tremaining: 22.4s\n",
      "255:\tlearn: 0.4648371\ttotal: 7.69s\tremaining: 22.3s\n",
      "256:\tlearn: 0.4647805\ttotal: 7.71s\tremaining: 22.3s\n",
      "257:\tlearn: 0.4647206\ttotal: 7.73s\tremaining: 22.2s\n",
      "258:\tlearn: 0.4646277\ttotal: 7.76s\tremaining: 22.2s\n",
      "259:\tlearn: 0.4645762\ttotal: 7.79s\tremaining: 22.2s\n",
      "260:\tlearn: 0.4645031\ttotal: 7.83s\tremaining: 22.2s\n",
      "261:\tlearn: 0.4644576\ttotal: 7.86s\tremaining: 22.1s\n",
      "262:\tlearn: 0.4644009\ttotal: 7.89s\tremaining: 22.1s\n",
      "263:\tlearn: 0.4643406\ttotal: 7.91s\tremaining: 22s\n",
      "264:\tlearn: 0.4642870\ttotal: 7.94s\tremaining: 22s\n",
      "265:\tlearn: 0.4642349\ttotal: 7.97s\tremaining: 22s\n",
      "266:\tlearn: 0.4641784\ttotal: 7.99s\tremaining: 21.9s\n",
      "267:\tlearn: 0.4641191\ttotal: 8.03s\tremaining: 21.9s\n",
      "268:\tlearn: 0.4640521\ttotal: 8.06s\tremaining: 21.9s\n",
      "269:\tlearn: 0.4639862\ttotal: 8.1s\tremaining: 21.9s\n",
      "270:\tlearn: 0.4639317\ttotal: 8.14s\tremaining: 21.9s\n",
      "271:\tlearn: 0.4638764\ttotal: 8.17s\tremaining: 21.9s\n",
      "272:\tlearn: 0.4638196\ttotal: 8.19s\tremaining: 21.8s\n",
      "273:\tlearn: 0.4637439\ttotal: 8.22s\tremaining: 21.8s\n",
      "274:\tlearn: 0.4636899\ttotal: 8.24s\tremaining: 21.7s\n",
      "275:\tlearn: 0.4636307\ttotal: 8.27s\tremaining: 21.7s\n",
      "276:\tlearn: 0.4635615\ttotal: 8.29s\tremaining: 21.6s\n",
      "277:\tlearn: 0.4635029\ttotal: 8.31s\tremaining: 21.6s\n",
      "278:\tlearn: 0.4634282\ttotal: 8.33s\tremaining: 21.5s\n",
      "279:\tlearn: 0.4633850\ttotal: 8.36s\tremaining: 21.5s\n",
      "280:\tlearn: 0.4633314\ttotal: 8.39s\tremaining: 21.5s\n",
      "281:\tlearn: 0.4632889\ttotal: 8.41s\tremaining: 21.4s\n",
      "282:\tlearn: 0.4632323\ttotal: 8.44s\tremaining: 21.4s\n",
      "283:\tlearn: 0.4631589\ttotal: 8.47s\tremaining: 21.3s\n",
      "284:\tlearn: 0.4630941\ttotal: 8.5s\tremaining: 21.3s\n",
      "285:\tlearn: 0.4630331\ttotal: 8.52s\tremaining: 21.3s\n",
      "286:\tlearn: 0.4629835\ttotal: 8.54s\tremaining: 21.2s\n",
      "287:\tlearn: 0.4629192\ttotal: 8.56s\tremaining: 21.2s\n",
      "288:\tlearn: 0.4628579\ttotal: 8.58s\tremaining: 21.1s\n",
      "289:\tlearn: 0.4628078\ttotal: 8.6s\tremaining: 21.1s\n",
      "290:\tlearn: 0.4627607\ttotal: 8.64s\tremaining: 21.1s\n",
      "291:\tlearn: 0.4627020\ttotal: 8.67s\tremaining: 21s\n",
      "292:\tlearn: 0.4626144\ttotal: 8.69s\tremaining: 21s\n",
      "293:\tlearn: 0.4625502\ttotal: 8.71s\tremaining: 20.9s\n",
      "294:\tlearn: 0.4625022\ttotal: 8.73s\tremaining: 20.9s\n",
      "295:\tlearn: 0.4624473\ttotal: 8.75s\tremaining: 20.8s\n",
      "296:\tlearn: 0.4623919\ttotal: 8.77s\tremaining: 20.8s\n",
      "297:\tlearn: 0.4623398\ttotal: 8.79s\tremaining: 20.7s\n",
      "298:\tlearn: 0.4622752\ttotal: 8.8s\tremaining: 20.6s\n",
      "299:\tlearn: 0.4622184\ttotal: 8.82s\tremaining: 20.6s\n",
      "300:\tlearn: 0.4621687\ttotal: 8.83s\tremaining: 20.5s\n",
      "301:\tlearn: 0.4620926\ttotal: 8.85s\tremaining: 20.5s\n",
      "302:\tlearn: 0.4620393\ttotal: 8.87s\tremaining: 20.4s\n",
      "303:\tlearn: 0.4620003\ttotal: 8.88s\tremaining: 20.3s\n",
      "304:\tlearn: 0.4619485\ttotal: 8.89s\tremaining: 20.3s\n",
      "305:\tlearn: 0.4618982\ttotal: 8.91s\tremaining: 20.2s\n",
      "306:\tlearn: 0.4618485\ttotal: 8.93s\tremaining: 20.2s\n",
      "307:\tlearn: 0.4618035\ttotal: 8.95s\tremaining: 20.1s\n",
      "308:\tlearn: 0.4617474\ttotal: 8.97s\tremaining: 20.1s\n",
      "309:\tlearn: 0.4616939\ttotal: 8.99s\tremaining: 20s\n",
      "310:\tlearn: 0.4616208\ttotal: 9.01s\tremaining: 20s\n",
      "311:\tlearn: 0.4615541\ttotal: 9.03s\tremaining: 19.9s\n",
      "312:\tlearn: 0.4614969\ttotal: 9.06s\tremaining: 19.9s\n",
      "313:\tlearn: 0.4614347\ttotal: 9.1s\tremaining: 19.9s\n",
      "314:\tlearn: 0.4613832\ttotal: 9.14s\tremaining: 19.9s\n",
      "315:\tlearn: 0.4613364\ttotal: 9.17s\tremaining: 19.9s\n",
      "316:\tlearn: 0.4612819\ttotal: 9.2s\tremaining: 19.8s\n",
      "317:\tlearn: 0.4612291\ttotal: 9.22s\tremaining: 19.8s\n",
      "318:\tlearn: 0.4611848\ttotal: 9.25s\tremaining: 19.7s\n",
      "319:\tlearn: 0.4611390\ttotal: 9.27s\tremaining: 19.7s\n",
      "320:\tlearn: 0.4610774\ttotal: 9.29s\tremaining: 19.7s\n",
      "321:\tlearn: 0.4610245\ttotal: 9.31s\tremaining: 19.6s\n",
      "322:\tlearn: 0.4609770\ttotal: 9.34s\tremaining: 19.6s\n",
      "323:\tlearn: 0.4609298\ttotal: 9.37s\tremaining: 19.5s\n",
      "324:\tlearn: 0.4608734\ttotal: 9.39s\tremaining: 19.5s\n",
      "325:\tlearn: 0.4608150\ttotal: 9.41s\tremaining: 19.5s\n",
      "326:\tlearn: 0.4607576\ttotal: 9.43s\tremaining: 19.4s\n",
      "327:\tlearn: 0.4607083\ttotal: 9.45s\tremaining: 19.4s\n",
      "328:\tlearn: 0.4606406\ttotal: 9.46s\tremaining: 19.3s\n",
      "329:\tlearn: 0.4606052\ttotal: 9.48s\tremaining: 19.2s\n",
      "330:\tlearn: 0.4605490\ttotal: 9.5s\tremaining: 19.2s\n",
      "331:\tlearn: 0.4605115\ttotal: 9.52s\tremaining: 19.2s\n",
      "332:\tlearn: 0.4604657\ttotal: 9.54s\tremaining: 19.1s\n",
      "333:\tlearn: 0.4604160\ttotal: 9.56s\tremaining: 19.1s\n",
      "334:\tlearn: 0.4603592\ttotal: 9.57s\tremaining: 19s\n",
      "335:\tlearn: 0.4602867\ttotal: 9.59s\tremaining: 19s\n",
      "336:\tlearn: 0.4602229\ttotal: 9.63s\tremaining: 18.9s\n",
      "337:\tlearn: 0.4601184\ttotal: 9.64s\tremaining: 18.9s\n",
      "338:\tlearn: 0.4600701\ttotal: 9.66s\tremaining: 18.8s\n",
      "339:\tlearn: 0.4600177\ttotal: 9.68s\tremaining: 18.8s\n",
      "340:\tlearn: 0.4599668\ttotal: 9.7s\tremaining: 18.7s\n",
      "341:\tlearn: 0.4599095\ttotal: 9.71s\tremaining: 18.7s\n",
      "342:\tlearn: 0.4598389\ttotal: 9.74s\tremaining: 18.6s\n",
      "343:\tlearn: 0.4597756\ttotal: 9.76s\tremaining: 18.6s\n",
      "344:\tlearn: 0.4597165\ttotal: 9.77s\tremaining: 18.6s\n",
      "345:\tlearn: 0.4596672\ttotal: 9.79s\tremaining: 18.5s\n",
      "346:\tlearn: 0.4595972\ttotal: 9.81s\tremaining: 18.5s\n",
      "347:\tlearn: 0.4595337\ttotal: 9.84s\tremaining: 18.4s\n",
      "348:\tlearn: 0.4594742\ttotal: 9.85s\tremaining: 18.4s\n",
      "349:\tlearn: 0.4594321\ttotal: 9.87s\tremaining: 18.3s\n",
      "350:\tlearn: 0.4593965\ttotal: 9.89s\tremaining: 18.3s\n",
      "351:\tlearn: 0.4593349\ttotal: 9.91s\tremaining: 18.2s\n",
      "352:\tlearn: 0.4592803\ttotal: 9.93s\tremaining: 18.2s\n",
      "353:\tlearn: 0.4592162\ttotal: 9.95s\tremaining: 18.1s\n",
      "354:\tlearn: 0.4591563\ttotal: 9.96s\tremaining: 18.1s\n",
      "355:\tlearn: 0.4590754\ttotal: 9.98s\tremaining: 18.1s\n",
      "356:\tlearn: 0.4590320\ttotal: 10s\tremaining: 18s\n",
      "357:\tlearn: 0.4589850\ttotal: 10s\tremaining: 18s\n",
      "358:\tlearn: 0.4589408\ttotal: 10s\tremaining: 17.9s\n",
      "359:\tlearn: 0.4588976\ttotal: 10.1s\tremaining: 17.9s\n",
      "360:\tlearn: 0.4588323\ttotal: 10.1s\tremaining: 17.8s\n",
      "361:\tlearn: 0.4587804\ttotal: 10.1s\tremaining: 17.8s\n",
      "362:\tlearn: 0.4587254\ttotal: 10.1s\tremaining: 17.8s\n",
      "363:\tlearn: 0.4586747\ttotal: 10.2s\tremaining: 17.8s\n",
      "364:\tlearn: 0.4586180\ttotal: 10.2s\tremaining: 17.7s\n",
      "365:\tlearn: 0.4585644\ttotal: 10.2s\tremaining: 17.7s\n",
      "366:\tlearn: 0.4585058\ttotal: 10.3s\tremaining: 17.7s\n",
      "367:\tlearn: 0.4584340\ttotal: 10.3s\tremaining: 17.6s\n",
      "368:\tlearn: 0.4583828\ttotal: 10.3s\tremaining: 17.6s\n",
      "369:\tlearn: 0.4583370\ttotal: 10.3s\tremaining: 17.6s\n",
      "370:\tlearn: 0.4582933\ttotal: 10.3s\tremaining: 17.5s\n",
      "371:\tlearn: 0.4582370\ttotal: 10.3s\tremaining: 17.5s\n",
      "372:\tlearn: 0.4581838\ttotal: 10.4s\tremaining: 17.4s\n",
      "373:\tlearn: 0.4581421\ttotal: 10.4s\tremaining: 17.4s\n",
      "374:\tlearn: 0.4581004\ttotal: 10.4s\tremaining: 17.3s\n",
      "375:\tlearn: 0.4580430\ttotal: 10.4s\tremaining: 17.3s\n",
      "376:\tlearn: 0.4580075\ttotal: 10.4s\tremaining: 17.2s\n",
      "377:\tlearn: 0.4579455\ttotal: 10.5s\tremaining: 17.2s\n",
      "378:\tlearn: 0.4578710\ttotal: 10.5s\tremaining: 17.2s\n",
      "379:\tlearn: 0.4578284\ttotal: 10.5s\tremaining: 17.1s\n",
      "380:\tlearn: 0.4577598\ttotal: 10.5s\tremaining: 17.1s\n",
      "381:\tlearn: 0.4577034\ttotal: 10.5s\tremaining: 17s\n",
      "382:\tlearn: 0.4576685\ttotal: 10.5s\tremaining: 17s\n",
      "383:\tlearn: 0.4576258\ttotal: 10.6s\tremaining: 16.9s\n",
      "384:\tlearn: 0.4575693\ttotal: 10.6s\tremaining: 16.9s\n",
      "385:\tlearn: 0.4575092\ttotal: 10.6s\tremaining: 16.9s\n",
      "386:\tlearn: 0.4574662\ttotal: 10.7s\tremaining: 16.9s\n",
      "387:\tlearn: 0.4574008\ttotal: 10.7s\tremaining: 16.8s\n",
      "388:\tlearn: 0.4573600\ttotal: 10.7s\tremaining: 16.8s\n",
      "389:\tlearn: 0.4573130\ttotal: 10.7s\tremaining: 16.8s\n",
      "390:\tlearn: 0.4572547\ttotal: 10.7s\tremaining: 16.7s\n",
      "391:\tlearn: 0.4572054\ttotal: 10.8s\tremaining: 16.7s\n",
      "392:\tlearn: 0.4571597\ttotal: 10.8s\tremaining: 16.7s\n",
      "393:\tlearn: 0.4570949\ttotal: 10.8s\tremaining: 16.6s\n",
      "394:\tlearn: 0.4570310\ttotal: 10.8s\tremaining: 16.6s\n",
      "395:\tlearn: 0.4569740\ttotal: 10.8s\tremaining: 16.5s\n",
      "396:\tlearn: 0.4569148\ttotal: 10.9s\tremaining: 16.5s\n",
      "397:\tlearn: 0.4568589\ttotal: 10.9s\tremaining: 16.5s\n",
      "398:\tlearn: 0.4568192\ttotal: 10.9s\tremaining: 16.4s\n",
      "399:\tlearn: 0.4567832\ttotal: 10.9s\tremaining: 16.4s\n",
      "400:\tlearn: 0.4567404\ttotal: 10.9s\tremaining: 16.3s\n",
      "401:\tlearn: 0.4566846\ttotal: 10.9s\tremaining: 16.3s\n",
      "402:\tlearn: 0.4566312\ttotal: 11s\tremaining: 16.2s\n",
      "403:\tlearn: 0.4565932\ttotal: 11s\tremaining: 16.2s\n",
      "404:\tlearn: 0.4565280\ttotal: 11s\tremaining: 16.1s\n",
      "405:\tlearn: 0.4564971\ttotal: 11s\tremaining: 16.1s\n",
      "406:\tlearn: 0.4564473\ttotal: 11s\tremaining: 16.1s\n",
      "407:\tlearn: 0.4563879\ttotal: 11.1s\tremaining: 16s\n",
      "408:\tlearn: 0.4563284\ttotal: 11.1s\tremaining: 16s\n",
      "409:\tlearn: 0.4562805\ttotal: 11.1s\tremaining: 16s\n",
      "410:\tlearn: 0.4562310\ttotal: 11.1s\tremaining: 15.9s\n",
      "411:\tlearn: 0.4561869\ttotal: 11.1s\tremaining: 15.9s\n",
      "412:\tlearn: 0.4561500\ttotal: 11.1s\tremaining: 15.8s\n",
      "413:\tlearn: 0.4561055\ttotal: 11.2s\tremaining: 15.8s\n",
      "414:\tlearn: 0.4560572\ttotal: 11.2s\tremaining: 15.8s\n",
      "415:\tlearn: 0.4560172\ttotal: 11.2s\tremaining: 15.7s\n",
      "416:\tlearn: 0.4559704\ttotal: 11.2s\tremaining: 15.7s\n",
      "417:\tlearn: 0.4559347\ttotal: 11.2s\tremaining: 15.6s\n",
      "418:\tlearn: 0.4558877\ttotal: 11.3s\tremaining: 15.6s\n",
      "419:\tlearn: 0.4558419\ttotal: 11.3s\tremaining: 15.6s\n",
      "420:\tlearn: 0.4557861\ttotal: 11.3s\tremaining: 15.5s\n",
      "421:\tlearn: 0.4557455\ttotal: 11.3s\tremaining: 15.5s\n",
      "422:\tlearn: 0.4556965\ttotal: 11.3s\tremaining: 15.5s\n",
      "423:\tlearn: 0.4556467\ttotal: 11.4s\tremaining: 15.4s\n",
      "424:\tlearn: 0.4555921\ttotal: 11.4s\tremaining: 15.4s\n",
      "425:\tlearn: 0.4555481\ttotal: 11.4s\tremaining: 15.3s\n",
      "426:\tlearn: 0.4554940\ttotal: 11.4s\tremaining: 15.3s\n",
      "427:\tlearn: 0.4554318\ttotal: 11.4s\tremaining: 15.3s\n",
      "428:\tlearn: 0.4553822\ttotal: 11.5s\tremaining: 15.2s\n",
      "429:\tlearn: 0.4553291\ttotal: 11.5s\tremaining: 15.2s\n",
      "430:\tlearn: 0.4552964\ttotal: 11.5s\tremaining: 15.2s\n",
      "431:\tlearn: 0.4552409\ttotal: 11.5s\tremaining: 15.1s\n",
      "432:\tlearn: 0.4551918\ttotal: 11.5s\tremaining: 15.1s\n",
      "433:\tlearn: 0.4551564\ttotal: 11.6s\tremaining: 15.1s\n",
      "434:\tlearn: 0.4550924\ttotal: 11.6s\tremaining: 15s\n",
      "435:\tlearn: 0.4550545\ttotal: 11.6s\tremaining: 15s\n",
      "436:\tlearn: 0.4550065\ttotal: 11.6s\tremaining: 15s\n",
      "437:\tlearn: 0.4549609\ttotal: 11.6s\tremaining: 14.9s\n",
      "438:\tlearn: 0.4549151\ttotal: 11.7s\tremaining: 14.9s\n",
      "439:\tlearn: 0.4548498\ttotal: 11.7s\tremaining: 14.9s\n",
      "440:\tlearn: 0.4547809\ttotal: 11.7s\tremaining: 14.8s\n",
      "441:\tlearn: 0.4547364\ttotal: 11.7s\tremaining: 14.8s\n",
      "442:\tlearn: 0.4546851\ttotal: 11.7s\tremaining: 14.7s\n",
      "443:\tlearn: 0.4546510\ttotal: 11.7s\tremaining: 14.7s\n",
      "444:\tlearn: 0.4545911\ttotal: 11.8s\tremaining: 14.7s\n",
      "445:\tlearn: 0.4545427\ttotal: 11.8s\tremaining: 14.7s\n",
      "446:\tlearn: 0.4545012\ttotal: 11.8s\tremaining: 14.6s\n",
      "447:\tlearn: 0.4544488\ttotal: 11.9s\tremaining: 14.6s\n",
      "448:\tlearn: 0.4543944\ttotal: 11.9s\tremaining: 14.6s\n",
      "449:\tlearn: 0.4543507\ttotal: 11.9s\tremaining: 14.5s\n",
      "450:\tlearn: 0.4542894\ttotal: 11.9s\tremaining: 14.5s\n",
      "451:\tlearn: 0.4542423\ttotal: 11.9s\tremaining: 14.5s\n",
      "452:\tlearn: 0.4541779\ttotal: 11.9s\tremaining: 14.4s\n",
      "453:\tlearn: 0.4541474\ttotal: 12s\tremaining: 14.4s\n",
      "454:\tlearn: 0.4541052\ttotal: 12s\tremaining: 14.4s\n",
      "455:\tlearn: 0.4540607\ttotal: 12s\tremaining: 14.3s\n",
      "456:\tlearn: 0.4540161\ttotal: 12s\tremaining: 14.3s\n",
      "457:\tlearn: 0.4539708\ttotal: 12s\tremaining: 14.3s\n",
      "458:\tlearn: 0.4539187\ttotal: 12.1s\tremaining: 14.2s\n",
      "459:\tlearn: 0.4538667\ttotal: 12.1s\tremaining: 14.2s\n",
      "460:\tlearn: 0.4538171\ttotal: 12.1s\tremaining: 14.2s\n",
      "461:\tlearn: 0.4537896\ttotal: 12.1s\tremaining: 14.1s\n",
      "462:\tlearn: 0.4537464\ttotal: 12.1s\tremaining: 14.1s\n",
      "463:\tlearn: 0.4537000\ttotal: 12.2s\tremaining: 14.1s\n",
      "464:\tlearn: 0.4536548\ttotal: 12.2s\tremaining: 14s\n",
      "465:\tlearn: 0.4536113\ttotal: 12.2s\tremaining: 14s\n",
      "466:\tlearn: 0.4535776\ttotal: 12.2s\tremaining: 14s\n",
      "467:\tlearn: 0.4535348\ttotal: 12.2s\tremaining: 13.9s\n",
      "468:\tlearn: 0.4534713\ttotal: 12.3s\tremaining: 13.9s\n",
      "469:\tlearn: 0.4534333\ttotal: 12.3s\tremaining: 13.8s\n",
      "470:\tlearn: 0.4533858\ttotal: 12.3s\tremaining: 13.8s\n",
      "471:\tlearn: 0.4533396\ttotal: 12.3s\tremaining: 13.8s\n",
      "472:\tlearn: 0.4533065\ttotal: 12.3s\tremaining: 13.7s\n",
      "473:\tlearn: 0.4532545\ttotal: 12.4s\tremaining: 13.7s\n",
      "474:\tlearn: 0.4531813\ttotal: 12.4s\tremaining: 13.7s\n",
      "475:\tlearn: 0.4531466\ttotal: 12.4s\tremaining: 13.6s\n",
      "476:\tlearn: 0.4530877\ttotal: 12.4s\tremaining: 13.6s\n",
      "477:\tlearn: 0.4530487\ttotal: 12.4s\tremaining: 13.6s\n",
      "478:\tlearn: 0.4530059\ttotal: 12.5s\tremaining: 13.6s\n",
      "479:\tlearn: 0.4529557\ttotal: 12.5s\tremaining: 13.5s\n",
      "480:\tlearn: 0.4529097\ttotal: 12.5s\tremaining: 13.5s\n",
      "481:\tlearn: 0.4528618\ttotal: 12.5s\tremaining: 13.5s\n",
      "482:\tlearn: 0.4528091\ttotal: 12.6s\tremaining: 13.4s\n",
      "483:\tlearn: 0.4527470\ttotal: 12.6s\tremaining: 13.4s\n",
      "484:\tlearn: 0.4527116\ttotal: 12.6s\tremaining: 13.4s\n",
      "485:\tlearn: 0.4526765\ttotal: 12.6s\tremaining: 13.3s\n",
      "486:\tlearn: 0.4526205\ttotal: 12.6s\tremaining: 13.3s\n",
      "487:\tlearn: 0.4525658\ttotal: 12.7s\tremaining: 13.3s\n",
      "488:\tlearn: 0.4525125\ttotal: 12.7s\tremaining: 13.2s\n",
      "489:\tlearn: 0.4524721\ttotal: 12.7s\tremaining: 13.2s\n",
      "490:\tlearn: 0.4524058\ttotal: 12.7s\tremaining: 13.2s\n",
      "491:\tlearn: 0.4523693\ttotal: 12.7s\tremaining: 13.2s\n",
      "492:\tlearn: 0.4523158\ttotal: 12.8s\tremaining: 13.1s\n",
      "493:\tlearn: 0.4522727\ttotal: 12.8s\tremaining: 13.1s\n",
      "494:\tlearn: 0.4522187\ttotal: 12.8s\tremaining: 13.1s\n",
      "495:\tlearn: 0.4521445\ttotal: 12.8s\tremaining: 13s\n",
      "496:\tlearn: 0.4520967\ttotal: 12.8s\tremaining: 13s\n",
      "497:\tlearn: 0.4520452\ttotal: 12.9s\tremaining: 13s\n",
      "498:\tlearn: 0.4519988\ttotal: 12.9s\tremaining: 12.9s\n",
      "499:\tlearn: 0.4519433\ttotal: 12.9s\tremaining: 12.9s\n",
      "500:\tlearn: 0.4518985\ttotal: 12.9s\tremaining: 12.9s\n",
      "501:\tlearn: 0.4518628\ttotal: 12.9s\tremaining: 12.8s\n",
      "502:\tlearn: 0.4518248\ttotal: 13s\tremaining: 12.8s\n",
      "503:\tlearn: 0.4517670\ttotal: 13s\tremaining: 12.8s\n",
      "504:\tlearn: 0.4517077\ttotal: 13s\tremaining: 12.8s\n",
      "505:\tlearn: 0.4516639\ttotal: 13s\tremaining: 12.7s\n",
      "506:\tlearn: 0.4516284\ttotal: 13.1s\tremaining: 12.7s\n",
      "507:\tlearn: 0.4515818\ttotal: 13.1s\tremaining: 12.7s\n",
      "508:\tlearn: 0.4515251\ttotal: 13.1s\tremaining: 12.6s\n",
      "509:\tlearn: 0.4514825\ttotal: 13.1s\tremaining: 12.6s\n",
      "510:\tlearn: 0.4514406\ttotal: 13.2s\tremaining: 12.6s\n",
      "511:\tlearn: 0.4514046\ttotal: 13.2s\tremaining: 12.6s\n",
      "512:\tlearn: 0.4513491\ttotal: 13.2s\tremaining: 12.5s\n",
      "513:\tlearn: 0.4513083\ttotal: 13.2s\tremaining: 12.5s\n",
      "514:\tlearn: 0.4512437\ttotal: 13.3s\tremaining: 12.5s\n",
      "515:\tlearn: 0.4511946\ttotal: 13.3s\tremaining: 12.4s\n",
      "516:\tlearn: 0.4511340\ttotal: 13.3s\tremaining: 12.4s\n",
      "517:\tlearn: 0.4510870\ttotal: 13.3s\tremaining: 12.4s\n",
      "518:\tlearn: 0.4510486\ttotal: 13.3s\tremaining: 12.4s\n",
      "519:\tlearn: 0.4509976\ttotal: 13.4s\tremaining: 12.3s\n",
      "520:\tlearn: 0.4509459\ttotal: 13.4s\tremaining: 12.3s\n",
      "521:\tlearn: 0.4508910\ttotal: 13.4s\tremaining: 12.3s\n",
      "522:\tlearn: 0.4508499\ttotal: 13.4s\tremaining: 12.3s\n",
      "523:\tlearn: 0.4507976\ttotal: 13.5s\tremaining: 12.2s\n",
      "524:\tlearn: 0.4507426\ttotal: 13.5s\tremaining: 12.2s\n",
      "525:\tlearn: 0.4506886\ttotal: 13.5s\tremaining: 12.2s\n",
      "526:\tlearn: 0.4506312\ttotal: 13.5s\tremaining: 12.1s\n",
      "527:\tlearn: 0.4505923\ttotal: 13.5s\tremaining: 12.1s\n",
      "528:\tlearn: 0.4505511\ttotal: 13.6s\tremaining: 12.1s\n",
      "529:\tlearn: 0.4505076\ttotal: 13.6s\tremaining: 12.1s\n",
      "530:\tlearn: 0.4504741\ttotal: 13.6s\tremaining: 12s\n",
      "531:\tlearn: 0.4504179\ttotal: 13.7s\tremaining: 12s\n",
      "532:\tlearn: 0.4503722\ttotal: 13.7s\tremaining: 12s\n",
      "533:\tlearn: 0.4503275\ttotal: 13.7s\tremaining: 12s\n",
      "534:\tlearn: 0.4502843\ttotal: 13.7s\tremaining: 11.9s\n",
      "535:\tlearn: 0.4502551\ttotal: 13.8s\tremaining: 11.9s\n",
      "536:\tlearn: 0.4502195\ttotal: 13.8s\tremaining: 11.9s\n",
      "537:\tlearn: 0.4501720\ttotal: 13.8s\tremaining: 11.9s\n",
      "538:\tlearn: 0.4501363\ttotal: 13.8s\tremaining: 11.8s\n",
      "539:\tlearn: 0.4500994\ttotal: 13.8s\tremaining: 11.8s\n",
      "540:\tlearn: 0.4500691\ttotal: 13.9s\tremaining: 11.8s\n",
      "541:\tlearn: 0.4500165\ttotal: 13.9s\tremaining: 11.7s\n",
      "542:\tlearn: 0.4499779\ttotal: 13.9s\tremaining: 11.7s\n",
      "543:\tlearn: 0.4499278\ttotal: 13.9s\tremaining: 11.7s\n",
      "544:\tlearn: 0.4498775\ttotal: 13.9s\tremaining: 11.6s\n",
      "545:\tlearn: 0.4498323\ttotal: 14s\tremaining: 11.6s\n",
      "546:\tlearn: 0.4497803\ttotal: 14s\tremaining: 11.6s\n",
      "547:\tlearn: 0.4497408\ttotal: 14s\tremaining: 11.5s\n",
      "548:\tlearn: 0.4496970\ttotal: 14s\tremaining: 11.5s\n",
      "549:\tlearn: 0.4496593\ttotal: 14s\tremaining: 11.5s\n",
      "550:\tlearn: 0.4496062\ttotal: 14.1s\tremaining: 11.5s\n",
      "551:\tlearn: 0.4495665\ttotal: 14.1s\tremaining: 11.4s\n",
      "552:\tlearn: 0.4495209\ttotal: 14.1s\tremaining: 11.4s\n",
      "553:\tlearn: 0.4494753\ttotal: 14.1s\tremaining: 11.4s\n",
      "554:\tlearn: 0.4494321\ttotal: 14.2s\tremaining: 11.3s\n",
      "555:\tlearn: 0.4493613\ttotal: 14.2s\tremaining: 11.3s\n",
      "556:\tlearn: 0.4493232\ttotal: 14.2s\tremaining: 11.3s\n",
      "557:\tlearn: 0.4492951\ttotal: 14.2s\tremaining: 11.3s\n",
      "558:\tlearn: 0.4492419\ttotal: 14.2s\tremaining: 11.2s\n",
      "559:\tlearn: 0.4491968\ttotal: 14.3s\tremaining: 11.2s\n",
      "560:\tlearn: 0.4491610\ttotal: 14.3s\tremaining: 11.2s\n",
      "561:\tlearn: 0.4491154\ttotal: 14.3s\tremaining: 11.1s\n",
      "562:\tlearn: 0.4490699\ttotal: 14.3s\tremaining: 11.1s\n",
      "563:\tlearn: 0.4490228\ttotal: 14.3s\tremaining: 11.1s\n",
      "564:\tlearn: 0.4489747\ttotal: 14.4s\tremaining: 11.1s\n",
      "565:\tlearn: 0.4489218\ttotal: 14.4s\tremaining: 11s\n",
      "566:\tlearn: 0.4488806\ttotal: 14.4s\tremaining: 11s\n",
      "567:\tlearn: 0.4488527\ttotal: 14.5s\tremaining: 11s\n",
      "568:\tlearn: 0.4488223\ttotal: 14.5s\tremaining: 11s\n",
      "569:\tlearn: 0.4487710\ttotal: 14.5s\tremaining: 10.9s\n",
      "570:\tlearn: 0.4487187\ttotal: 14.5s\tremaining: 10.9s\n",
      "571:\tlearn: 0.4486820\ttotal: 14.5s\tremaining: 10.9s\n",
      "572:\tlearn: 0.4486461\ttotal: 14.6s\tremaining: 10.9s\n",
      "573:\tlearn: 0.4486196\ttotal: 14.6s\tremaining: 10.8s\n",
      "574:\tlearn: 0.4485675\ttotal: 14.6s\tremaining: 10.8s\n",
      "575:\tlearn: 0.4485122\ttotal: 14.6s\tremaining: 10.8s\n",
      "576:\tlearn: 0.4484634\ttotal: 14.7s\tremaining: 10.7s\n",
      "577:\tlearn: 0.4484262\ttotal: 14.7s\tremaining: 10.7s\n",
      "578:\tlearn: 0.4483654\ttotal: 14.7s\tremaining: 10.7s\n",
      "579:\tlearn: 0.4483175\ttotal: 14.7s\tremaining: 10.7s\n",
      "580:\tlearn: 0.4482692\ttotal: 14.7s\tremaining: 10.6s\n",
      "581:\tlearn: 0.4482272\ttotal: 14.7s\tremaining: 10.6s\n",
      "582:\tlearn: 0.4481927\ttotal: 14.8s\tremaining: 10.6s\n",
      "583:\tlearn: 0.4481582\ttotal: 14.8s\tremaining: 10.5s\n",
      "584:\tlearn: 0.4481226\ttotal: 14.8s\tremaining: 10.5s\n",
      "585:\tlearn: 0.4480829\ttotal: 14.8s\tremaining: 10.5s\n",
      "586:\tlearn: 0.4480361\ttotal: 14.8s\tremaining: 10.4s\n",
      "587:\tlearn: 0.4479965\ttotal: 14.9s\tremaining: 10.4s\n",
      "588:\tlearn: 0.4479521\ttotal: 14.9s\tremaining: 10.4s\n",
      "589:\tlearn: 0.4479144\ttotal: 14.9s\tremaining: 10.4s\n",
      "590:\tlearn: 0.4478661\ttotal: 14.9s\tremaining: 10.3s\n",
      "591:\tlearn: 0.4478143\ttotal: 14.9s\tremaining: 10.3s\n",
      "592:\tlearn: 0.4477795\ttotal: 15s\tremaining: 10.3s\n",
      "593:\tlearn: 0.4477450\ttotal: 15s\tremaining: 10.2s\n",
      "594:\tlearn: 0.4477047\ttotal: 15s\tremaining: 10.2s\n",
      "595:\tlearn: 0.4476576\ttotal: 15s\tremaining: 10.2s\n",
      "596:\tlearn: 0.4476184\ttotal: 15.1s\tremaining: 10.2s\n",
      "597:\tlearn: 0.4475647\ttotal: 15.1s\tremaining: 10.1s\n",
      "598:\tlearn: 0.4475210\ttotal: 15.1s\tremaining: 10.1s\n",
      "599:\tlearn: 0.4474799\ttotal: 15.1s\tremaining: 10.1s\n",
      "600:\tlearn: 0.4474447\ttotal: 15.2s\tremaining: 10.1s\n",
      "601:\tlearn: 0.4473965\ttotal: 15.2s\tremaining: 10s\n",
      "602:\tlearn: 0.4473569\ttotal: 15.2s\tremaining: 10s\n",
      "603:\tlearn: 0.4472920\ttotal: 15.2s\tremaining: 9.97s\n",
      "604:\tlearn: 0.4472605\ttotal: 15.2s\tremaining: 9.94s\n",
      "605:\tlearn: 0.4472173\ttotal: 15.2s\tremaining: 9.91s\n",
      "606:\tlearn: 0.4471522\ttotal: 15.3s\tremaining: 9.88s\n",
      "607:\tlearn: 0.4471104\ttotal: 15.3s\tremaining: 9.85s\n",
      "608:\tlearn: 0.4470619\ttotal: 15.3s\tremaining: 9.82s\n",
      "609:\tlearn: 0.4470199\ttotal: 15.3s\tremaining: 9.79s\n",
      "610:\tlearn: 0.4469822\ttotal: 15.3s\tremaining: 9.76s\n",
      "611:\tlearn: 0.4469531\ttotal: 15.4s\tremaining: 9.73s\n",
      "612:\tlearn: 0.4469049\ttotal: 15.4s\tremaining: 9.7s\n",
      "613:\tlearn: 0.4468578\ttotal: 15.4s\tremaining: 9.67s\n",
      "614:\tlearn: 0.4468122\ttotal: 15.4s\tremaining: 9.64s\n",
      "615:\tlearn: 0.4467578\ttotal: 15.4s\tremaining: 9.62s\n",
      "616:\tlearn: 0.4467349\ttotal: 15.4s\tremaining: 9.59s\n",
      "617:\tlearn: 0.4467106\ttotal: 15.5s\tremaining: 9.56s\n",
      "618:\tlearn: 0.4466479\ttotal: 15.5s\tremaining: 9.53s\n",
      "619:\tlearn: 0.4466007\ttotal: 15.5s\tremaining: 9.5s\n",
      "620:\tlearn: 0.4465592\ttotal: 15.5s\tremaining: 9.47s\n",
      "621:\tlearn: 0.4465142\ttotal: 15.5s\tremaining: 9.44s\n",
      "622:\tlearn: 0.4464707\ttotal: 15.6s\tremaining: 9.42s\n",
      "623:\tlearn: 0.4464115\ttotal: 15.6s\tremaining: 9.39s\n",
      "624:\tlearn: 0.4463539\ttotal: 15.6s\tremaining: 9.37s\n",
      "625:\tlearn: 0.4463059\ttotal: 15.6s\tremaining: 9.34s\n",
      "626:\tlearn: 0.4462604\ttotal: 15.7s\tremaining: 9.31s\n",
      "627:\tlearn: 0.4462175\ttotal: 15.7s\tremaining: 9.29s\n",
      "628:\tlearn: 0.4461651\ttotal: 15.7s\tremaining: 9.26s\n",
      "629:\tlearn: 0.4461321\ttotal: 15.7s\tremaining: 9.24s\n",
      "630:\tlearn: 0.4460859\ttotal: 15.8s\tremaining: 9.21s\n",
      "631:\tlearn: 0.4460378\ttotal: 15.8s\tremaining: 9.19s\n",
      "632:\tlearn: 0.4460015\ttotal: 15.8s\tremaining: 9.16s\n",
      "633:\tlearn: 0.4459673\ttotal: 15.8s\tremaining: 9.13s\n",
      "634:\tlearn: 0.4459287\ttotal: 15.8s\tremaining: 9.1s\n",
      "635:\tlearn: 0.4458862\ttotal: 15.9s\tremaining: 9.07s\n",
      "636:\tlearn: 0.4458384\ttotal: 15.9s\tremaining: 9.04s\n",
      "637:\tlearn: 0.4458090\ttotal: 15.9s\tremaining: 9.02s\n",
      "638:\tlearn: 0.4457636\ttotal: 15.9s\tremaining: 8.99s\n",
      "639:\tlearn: 0.4457251\ttotal: 15.9s\tremaining: 8.96s\n",
      "640:\tlearn: 0.4456859\ttotal: 15.9s\tremaining: 8.93s\n",
      "641:\tlearn: 0.4456483\ttotal: 16s\tremaining: 8.9s\n",
      "642:\tlearn: 0.4456063\ttotal: 16s\tremaining: 8.87s\n",
      "643:\tlearn: 0.4455512\ttotal: 16s\tremaining: 8.85s\n",
      "644:\tlearn: 0.4455126\ttotal: 16s\tremaining: 8.81s\n",
      "645:\tlearn: 0.4454748\ttotal: 16s\tremaining: 8.79s\n",
      "646:\tlearn: 0.4454407\ttotal: 16.1s\tremaining: 8.76s\n",
      "647:\tlearn: 0.4453939\ttotal: 16.1s\tremaining: 8.73s\n",
      "648:\tlearn: 0.4453223\ttotal: 16.1s\tremaining: 8.7s\n",
      "649:\tlearn: 0.4452850\ttotal: 16.1s\tremaining: 8.67s\n",
      "650:\tlearn: 0.4452566\ttotal: 16.1s\tremaining: 8.65s\n",
      "651:\tlearn: 0.4452240\ttotal: 16.1s\tremaining: 8.62s\n",
      "652:\tlearn: 0.4451744\ttotal: 16.2s\tremaining: 8.59s\n",
      "653:\tlearn: 0.4451451\ttotal: 16.2s\tremaining: 8.56s\n",
      "654:\tlearn: 0.4450977\ttotal: 16.2s\tremaining: 8.54s\n",
      "655:\tlearn: 0.4450593\ttotal: 16.2s\tremaining: 8.51s\n",
      "656:\tlearn: 0.4450269\ttotal: 16.2s\tremaining: 8.48s\n",
      "657:\tlearn: 0.4449826\ttotal: 16.3s\tremaining: 8.46s\n",
      "658:\tlearn: 0.4449472\ttotal: 16.3s\tremaining: 8.43s\n",
      "659:\tlearn: 0.4449149\ttotal: 16.3s\tremaining: 8.4s\n",
      "660:\tlearn: 0.4448729\ttotal: 16.3s\tremaining: 8.37s\n",
      "661:\tlearn: 0.4448326\ttotal: 16.3s\tremaining: 8.35s\n",
      "662:\tlearn: 0.4447871\ttotal: 16.4s\tremaining: 8.32s\n",
      "663:\tlearn: 0.4447267\ttotal: 16.4s\tremaining: 8.29s\n",
      "664:\tlearn: 0.4446929\ttotal: 16.4s\tremaining: 8.26s\n",
      "665:\tlearn: 0.4446565\ttotal: 16.4s\tremaining: 8.23s\n",
      "666:\tlearn: 0.4446035\ttotal: 16.4s\tremaining: 8.21s\n",
      "667:\tlearn: 0.4445642\ttotal: 16.5s\tremaining: 8.18s\n",
      "668:\tlearn: 0.4445191\ttotal: 16.5s\tremaining: 8.15s\n",
      "669:\tlearn: 0.4444710\ttotal: 16.5s\tremaining: 8.13s\n",
      "670:\tlearn: 0.4444362\ttotal: 16.5s\tremaining: 8.1s\n",
      "671:\tlearn: 0.4443969\ttotal: 16.5s\tremaining: 8.07s\n",
      "672:\tlearn: 0.4443386\ttotal: 16.6s\tremaining: 8.04s\n",
      "673:\tlearn: 0.4443085\ttotal: 16.6s\tremaining: 8.01s\n",
      "674:\tlearn: 0.4442576\ttotal: 16.6s\tremaining: 7.99s\n",
      "675:\tlearn: 0.4442346\ttotal: 16.6s\tremaining: 7.96s\n",
      "676:\tlearn: 0.4442009\ttotal: 16.6s\tremaining: 7.93s\n",
      "677:\tlearn: 0.4441556\ttotal: 16.7s\tremaining: 7.91s\n",
      "678:\tlearn: 0.4441216\ttotal: 16.7s\tremaining: 7.9s\n",
      "679:\tlearn: 0.4440626\ttotal: 16.8s\tremaining: 7.88s\n",
      "680:\tlearn: 0.4440180\ttotal: 16.8s\tremaining: 7.86s\n",
      "681:\tlearn: 0.4439950\ttotal: 16.8s\tremaining: 7.83s\n",
      "682:\tlearn: 0.4439636\ttotal: 16.8s\tremaining: 7.8s\n",
      "683:\tlearn: 0.4439250\ttotal: 16.8s\tremaining: 7.77s\n",
      "684:\tlearn: 0.4439005\ttotal: 16.8s\tremaining: 7.74s\n",
      "685:\tlearn: 0.4438643\ttotal: 16.9s\tremaining: 7.72s\n",
      "686:\tlearn: 0.4438008\ttotal: 16.9s\tremaining: 7.69s\n",
      "687:\tlearn: 0.4437521\ttotal: 16.9s\tremaining: 7.66s\n",
      "688:\tlearn: 0.4437029\ttotal: 16.9s\tremaining: 7.64s\n",
      "689:\tlearn: 0.4436527\ttotal: 16.9s\tremaining: 7.61s\n",
      "690:\tlearn: 0.4436047\ttotal: 17s\tremaining: 7.58s\n",
      "691:\tlearn: 0.4435761\ttotal: 17s\tremaining: 7.56s\n",
      "692:\tlearn: 0.4435370\ttotal: 17s\tremaining: 7.53s\n",
      "693:\tlearn: 0.4434909\ttotal: 17s\tremaining: 7.51s\n",
      "694:\tlearn: 0.4434443\ttotal: 17s\tremaining: 7.48s\n",
      "695:\tlearn: 0.4433971\ttotal: 17.1s\tremaining: 7.46s\n",
      "696:\tlearn: 0.4433380\ttotal: 17.1s\tremaining: 7.43s\n",
      "697:\tlearn: 0.4432943\ttotal: 17.1s\tremaining: 7.4s\n",
      "698:\tlearn: 0.4432522\ttotal: 17.1s\tremaining: 7.37s\n",
      "699:\tlearn: 0.4432016\ttotal: 17.1s\tremaining: 7.35s\n",
      "700:\tlearn: 0.4431689\ttotal: 17.2s\tremaining: 7.32s\n",
      "701:\tlearn: 0.4431187\ttotal: 17.2s\tremaining: 7.29s\n",
      "702:\tlearn: 0.4430716\ttotal: 17.2s\tremaining: 7.26s\n",
      "703:\tlearn: 0.4430148\ttotal: 17.2s\tremaining: 7.24s\n",
      "704:\tlearn: 0.4429786\ttotal: 17.2s\tremaining: 7.21s\n",
      "705:\tlearn: 0.4429378\ttotal: 17.3s\tremaining: 7.18s\n",
      "706:\tlearn: 0.4428976\ttotal: 17.3s\tremaining: 7.16s\n",
      "707:\tlearn: 0.4428532\ttotal: 17.3s\tremaining: 7.13s\n",
      "708:\tlearn: 0.4428132\ttotal: 17.3s\tremaining: 7.1s\n",
      "709:\tlearn: 0.4427672\ttotal: 17.3s\tremaining: 7.08s\n",
      "710:\tlearn: 0.4427286\ttotal: 17.3s\tremaining: 7.05s\n",
      "711:\tlearn: 0.4426942\ttotal: 17.4s\tremaining: 7.02s\n",
      "712:\tlearn: 0.4426560\ttotal: 17.4s\tremaining: 7s\n",
      "713:\tlearn: 0.4426216\ttotal: 17.4s\tremaining: 6.97s\n",
      "714:\tlearn: 0.4425778\ttotal: 17.4s\tremaining: 6.94s\n",
      "715:\tlearn: 0.4425509\ttotal: 17.4s\tremaining: 6.91s\n",
      "716:\tlearn: 0.4424994\ttotal: 17.5s\tremaining: 6.89s\n",
      "717:\tlearn: 0.4424469\ttotal: 17.5s\tremaining: 6.86s\n",
      "718:\tlearn: 0.4424242\ttotal: 17.5s\tremaining: 6.84s\n",
      "719:\tlearn: 0.4423863\ttotal: 17.5s\tremaining: 6.81s\n",
      "720:\tlearn: 0.4423388\ttotal: 17.5s\tremaining: 6.79s\n",
      "721:\tlearn: 0.4422933\ttotal: 17.6s\tremaining: 6.76s\n",
      "722:\tlearn: 0.4422427\ttotal: 17.6s\tremaining: 6.74s\n",
      "723:\tlearn: 0.4421952\ttotal: 17.6s\tremaining: 6.71s\n",
      "724:\tlearn: 0.4421400\ttotal: 17.6s\tremaining: 6.69s\n",
      "725:\tlearn: 0.4421101\ttotal: 17.7s\tremaining: 6.67s\n",
      "726:\tlearn: 0.4420478\ttotal: 17.7s\tremaining: 6.64s\n",
      "727:\tlearn: 0.4420056\ttotal: 17.7s\tremaining: 6.61s\n",
      "728:\tlearn: 0.4419800\ttotal: 17.7s\tremaining: 6.59s\n",
      "729:\tlearn: 0.4419550\ttotal: 17.7s\tremaining: 6.56s\n",
      "730:\tlearn: 0.4419294\ttotal: 17.8s\tremaining: 6.54s\n",
      "731:\tlearn: 0.4418878\ttotal: 17.8s\tremaining: 6.51s\n",
      "732:\tlearn: 0.4418655\ttotal: 17.8s\tremaining: 6.49s\n",
      "733:\tlearn: 0.4418421\ttotal: 17.8s\tremaining: 6.47s\n",
      "734:\tlearn: 0.4417998\ttotal: 17.9s\tremaining: 6.44s\n",
      "735:\tlearn: 0.4417635\ttotal: 17.9s\tremaining: 6.42s\n",
      "736:\tlearn: 0.4417183\ttotal: 17.9s\tremaining: 6.39s\n",
      "737:\tlearn: 0.4416895\ttotal: 17.9s\tremaining: 6.37s\n",
      "738:\tlearn: 0.4416461\ttotal: 18s\tremaining: 6.34s\n",
      "739:\tlearn: 0.4416182\ttotal: 18s\tremaining: 6.32s\n",
      "740:\tlearn: 0.4415877\ttotal: 18s\tremaining: 6.29s\n",
      "741:\tlearn: 0.4415518\ttotal: 18s\tremaining: 6.27s\n",
      "742:\tlearn: 0.4415069\ttotal: 18.1s\tremaining: 6.25s\n",
      "743:\tlearn: 0.4414596\ttotal: 18.1s\tremaining: 6.22s\n",
      "744:\tlearn: 0.4414132\ttotal: 18.1s\tremaining: 6.19s\n",
      "745:\tlearn: 0.4413713\ttotal: 18.1s\tremaining: 6.17s\n",
      "746:\tlearn: 0.4413294\ttotal: 18.1s\tremaining: 6.14s\n",
      "747:\tlearn: 0.4412859\ttotal: 18.1s\tremaining: 6.11s\n",
      "748:\tlearn: 0.4412514\ttotal: 18.2s\tremaining: 6.09s\n",
      "749:\tlearn: 0.4412113\ttotal: 18.2s\tremaining: 6.06s\n",
      "750:\tlearn: 0.4411599\ttotal: 18.2s\tremaining: 6.03s\n",
      "751:\tlearn: 0.4411178\ttotal: 18.2s\tremaining: 6.01s\n",
      "752:\tlearn: 0.4410664\ttotal: 18.2s\tremaining: 5.98s\n",
      "753:\tlearn: 0.4410273\ttotal: 18.3s\tremaining: 5.96s\n",
      "754:\tlearn: 0.4409805\ttotal: 18.3s\tremaining: 5.93s\n",
      "755:\tlearn: 0.4409213\ttotal: 18.3s\tremaining: 5.91s\n",
      "756:\tlearn: 0.4408802\ttotal: 18.3s\tremaining: 5.88s\n",
      "757:\tlearn: 0.4408338\ttotal: 18.3s\tremaining: 5.85s\n",
      "758:\tlearn: 0.4407745\ttotal: 18.4s\tremaining: 5.83s\n",
      "759:\tlearn: 0.4407227\ttotal: 18.4s\tremaining: 5.8s\n",
      "760:\tlearn: 0.4406987\ttotal: 18.4s\tremaining: 5.78s\n",
      "761:\tlearn: 0.4406675\ttotal: 18.4s\tremaining: 5.75s\n",
      "762:\tlearn: 0.4406387\ttotal: 18.4s\tremaining: 5.73s\n",
      "763:\tlearn: 0.4405995\ttotal: 18.5s\tremaining: 5.7s\n",
      "764:\tlearn: 0.4405536\ttotal: 18.5s\tremaining: 5.67s\n",
      "765:\tlearn: 0.4405103\ttotal: 18.5s\tremaining: 5.65s\n",
      "766:\tlearn: 0.4404567\ttotal: 18.5s\tremaining: 5.62s\n",
      "767:\tlearn: 0.4404118\ttotal: 18.5s\tremaining: 5.6s\n",
      "768:\tlearn: 0.4403689\ttotal: 18.5s\tremaining: 5.57s\n",
      "769:\tlearn: 0.4403323\ttotal: 18.6s\tremaining: 5.54s\n",
      "770:\tlearn: 0.4402899\ttotal: 18.6s\tremaining: 5.52s\n",
      "771:\tlearn: 0.4402420\ttotal: 18.6s\tremaining: 5.49s\n",
      "772:\tlearn: 0.4402072\ttotal: 18.6s\tremaining: 5.47s\n",
      "773:\tlearn: 0.4401705\ttotal: 18.6s\tremaining: 5.44s\n",
      "774:\tlearn: 0.4401149\ttotal: 18.7s\tremaining: 5.42s\n",
      "775:\tlearn: 0.4400779\ttotal: 18.7s\tremaining: 5.4s\n",
      "776:\tlearn: 0.4400179\ttotal: 18.7s\tremaining: 5.38s\n",
      "777:\tlearn: 0.4399763\ttotal: 18.8s\tremaining: 5.35s\n",
      "778:\tlearn: 0.4399049\ttotal: 18.8s\tremaining: 5.33s\n",
      "779:\tlearn: 0.4398598\ttotal: 18.8s\tremaining: 5.3s\n",
      "780:\tlearn: 0.4398367\ttotal: 18.8s\tremaining: 5.28s\n",
      "781:\tlearn: 0.4398054\ttotal: 18.9s\tremaining: 5.26s\n",
      "782:\tlearn: 0.4397663\ttotal: 18.9s\tremaining: 5.23s\n",
      "783:\tlearn: 0.4397260\ttotal: 18.9s\tremaining: 5.22s\n",
      "784:\tlearn: 0.4396852\ttotal: 19s\tremaining: 5.2s\n",
      "785:\tlearn: 0.4396542\ttotal: 19.1s\tremaining: 5.19s\n",
      "786:\tlearn: 0.4396033\ttotal: 19.2s\tremaining: 5.18s\n",
      "787:\tlearn: 0.4395641\ttotal: 19.2s\tremaining: 5.16s\n",
      "788:\tlearn: 0.4395381\ttotal: 19.2s\tremaining: 5.14s\n",
      "789:\tlearn: 0.4394904\ttotal: 19.3s\tremaining: 5.12s\n",
      "790:\tlearn: 0.4394454\ttotal: 19.3s\tremaining: 5.11s\n",
      "791:\tlearn: 0.4393886\ttotal: 19.4s\tremaining: 5.09s\n",
      "792:\tlearn: 0.4393350\ttotal: 19.4s\tremaining: 5.07s\n",
      "793:\tlearn: 0.4392831\ttotal: 19.5s\tremaining: 5.06s\n",
      "794:\tlearn: 0.4392295\ttotal: 19.5s\tremaining: 5.04s\n",
      "795:\tlearn: 0.4391852\ttotal: 19.6s\tremaining: 5.02s\n",
      "796:\tlearn: 0.4391405\ttotal: 19.6s\tremaining: 5s\n",
      "797:\tlearn: 0.4390902\ttotal: 19.6s\tremaining: 4.97s\n",
      "798:\tlearn: 0.4390341\ttotal: 19.6s\tremaining: 4.94s\n",
      "799:\tlearn: 0.4390035\ttotal: 19.7s\tremaining: 4.92s\n",
      "800:\tlearn: 0.4389687\ttotal: 19.7s\tremaining: 4.89s\n",
      "801:\tlearn: 0.4389342\ttotal: 19.7s\tremaining: 4.87s\n",
      "802:\tlearn: 0.4388945\ttotal: 19.8s\tremaining: 4.85s\n",
      "803:\tlearn: 0.4388541\ttotal: 19.8s\tremaining: 4.83s\n",
      "804:\tlearn: 0.4388180\ttotal: 19.8s\tremaining: 4.8s\n",
      "805:\tlearn: 0.4387724\ttotal: 19.8s\tremaining: 4.77s\n",
      "806:\tlearn: 0.4387128\ttotal: 19.8s\tremaining: 4.75s\n",
      "807:\tlearn: 0.4386849\ttotal: 19.9s\tremaining: 4.72s\n",
      "808:\tlearn: 0.4386447\ttotal: 19.9s\tremaining: 4.7s\n",
      "809:\tlearn: 0.4386052\ttotal: 19.9s\tremaining: 4.67s\n",
      "810:\tlearn: 0.4385656\ttotal: 20s\tremaining: 4.65s\n",
      "811:\tlearn: 0.4385264\ttotal: 20s\tremaining: 4.63s\n",
      "812:\tlearn: 0.4384839\ttotal: 20s\tremaining: 4.61s\n",
      "813:\tlearn: 0.4384416\ttotal: 20s\tremaining: 4.58s\n",
      "814:\tlearn: 0.4383936\ttotal: 20.1s\tremaining: 4.55s\n",
      "815:\tlearn: 0.4383350\ttotal: 20.1s\tremaining: 4.53s\n",
      "816:\tlearn: 0.4383087\ttotal: 20.1s\tremaining: 4.5s\n",
      "817:\tlearn: 0.4382656\ttotal: 20.1s\tremaining: 4.47s\n",
      "818:\tlearn: 0.4382284\ttotal: 20.1s\tremaining: 4.45s\n",
      "819:\tlearn: 0.4381867\ttotal: 20.1s\tremaining: 4.42s\n",
      "820:\tlearn: 0.4381564\ttotal: 20.2s\tremaining: 4.4s\n",
      "821:\tlearn: 0.4381053\ttotal: 20.2s\tremaining: 4.37s\n",
      "822:\tlearn: 0.4380756\ttotal: 20.2s\tremaining: 4.35s\n",
      "823:\tlearn: 0.4380378\ttotal: 20.2s\tremaining: 4.32s\n",
      "824:\tlearn: 0.4379969\ttotal: 20.3s\tremaining: 4.29s\n",
      "825:\tlearn: 0.4379625\ttotal: 20.3s\tremaining: 4.27s\n",
      "826:\tlearn: 0.4379242\ttotal: 20.3s\tremaining: 4.25s\n",
      "827:\tlearn: 0.4378761\ttotal: 20.3s\tremaining: 4.22s\n",
      "828:\tlearn: 0.4378311\ttotal: 20.3s\tremaining: 4.19s\n",
      "829:\tlearn: 0.4377891\ttotal: 20.3s\tremaining: 4.17s\n",
      "830:\tlearn: 0.4377509\ttotal: 20.4s\tremaining: 4.14s\n",
      "831:\tlearn: 0.4377115\ttotal: 20.4s\tremaining: 4.12s\n",
      "832:\tlearn: 0.4376714\ttotal: 20.4s\tremaining: 4.1s\n",
      "833:\tlearn: 0.4376231\ttotal: 20.5s\tremaining: 4.07s\n",
      "834:\tlearn: 0.4375926\ttotal: 20.5s\tremaining: 4.05s\n",
      "835:\tlearn: 0.4375432\ttotal: 20.5s\tremaining: 4.02s\n",
      "836:\tlearn: 0.4374997\ttotal: 20.5s\tremaining: 4s\n",
      "837:\tlearn: 0.4374615\ttotal: 20.6s\tremaining: 3.98s\n",
      "838:\tlearn: 0.4374188\ttotal: 20.6s\tremaining: 3.95s\n",
      "839:\tlearn: 0.4373882\ttotal: 20.6s\tremaining: 3.93s\n",
      "840:\tlearn: 0.4373535\ttotal: 20.7s\tremaining: 3.91s\n",
      "841:\tlearn: 0.4373114\ttotal: 20.7s\tremaining: 3.88s\n",
      "842:\tlearn: 0.4372767\ttotal: 20.7s\tremaining: 3.86s\n",
      "843:\tlearn: 0.4372394\ttotal: 20.7s\tremaining: 3.83s\n",
      "844:\tlearn: 0.4372030\ttotal: 20.7s\tremaining: 3.81s\n",
      "845:\tlearn: 0.4371563\ttotal: 20.8s\tremaining: 3.78s\n",
      "846:\tlearn: 0.4371129\ttotal: 20.8s\tremaining: 3.75s\n",
      "847:\tlearn: 0.4370756\ttotal: 20.8s\tremaining: 3.73s\n",
      "848:\tlearn: 0.4370443\ttotal: 20.8s\tremaining: 3.7s\n",
      "849:\tlearn: 0.4370190\ttotal: 20.8s\tremaining: 3.68s\n",
      "850:\tlearn: 0.4369756\ttotal: 20.9s\tremaining: 3.65s\n",
      "851:\tlearn: 0.4369376\ttotal: 20.9s\tremaining: 3.62s\n",
      "852:\tlearn: 0.4368913\ttotal: 20.9s\tremaining: 3.6s\n",
      "853:\tlearn: 0.4368493\ttotal: 20.9s\tremaining: 3.57s\n",
      "854:\tlearn: 0.4368118\ttotal: 20.9s\tremaining: 3.55s\n",
      "855:\tlearn: 0.4367631\ttotal: 20.9s\tremaining: 3.52s\n",
      "856:\tlearn: 0.4367002\ttotal: 21s\tremaining: 3.5s\n",
      "857:\tlearn: 0.4366693\ttotal: 21s\tremaining: 3.47s\n",
      "858:\tlearn: 0.4366381\ttotal: 21s\tremaining: 3.44s\n",
      "859:\tlearn: 0.4366086\ttotal: 21s\tremaining: 3.42s\n",
      "860:\tlearn: 0.4365934\ttotal: 21s\tremaining: 3.4s\n",
      "861:\tlearn: 0.4365649\ttotal: 21s\tremaining: 3.37s\n",
      "862:\tlearn: 0.4365311\ttotal: 21.1s\tremaining: 3.34s\n",
      "863:\tlearn: 0.4364941\ttotal: 21.1s\tremaining: 3.32s\n",
      "864:\tlearn: 0.4364586\ttotal: 21.1s\tremaining: 3.29s\n",
      "865:\tlearn: 0.4364119\ttotal: 21.1s\tremaining: 3.27s\n",
      "866:\tlearn: 0.4363856\ttotal: 21.1s\tremaining: 3.24s\n",
      "867:\tlearn: 0.4363524\ttotal: 21.2s\tremaining: 3.22s\n",
      "868:\tlearn: 0.4363140\ttotal: 21.2s\tremaining: 3.19s\n",
      "869:\tlearn: 0.4362825\ttotal: 21.2s\tremaining: 3.17s\n",
      "870:\tlearn: 0.4362532\ttotal: 21.2s\tremaining: 3.14s\n",
      "871:\tlearn: 0.4362123\ttotal: 21.2s\tremaining: 3.12s\n",
      "872:\tlearn: 0.4361569\ttotal: 21.3s\tremaining: 3.09s\n",
      "873:\tlearn: 0.4361154\ttotal: 21.3s\tremaining: 3.07s\n",
      "874:\tlearn: 0.4360667\ttotal: 21.3s\tremaining: 3.05s\n",
      "875:\tlearn: 0.4360262\ttotal: 21.3s\tremaining: 3.02s\n",
      "876:\tlearn: 0.4359930\ttotal: 21.4s\tremaining: 3s\n",
      "877:\tlearn: 0.4359615\ttotal: 21.4s\tremaining: 2.97s\n",
      "878:\tlearn: 0.4359088\ttotal: 21.4s\tremaining: 2.95s\n",
      "879:\tlearn: 0.4358719\ttotal: 21.4s\tremaining: 2.92s\n",
      "880:\tlearn: 0.4358327\ttotal: 21.4s\tremaining: 2.9s\n",
      "881:\tlearn: 0.4358050\ttotal: 21.5s\tremaining: 2.87s\n",
      "882:\tlearn: 0.4357793\ttotal: 21.5s\tremaining: 2.85s\n",
      "883:\tlearn: 0.4357291\ttotal: 21.5s\tremaining: 2.82s\n",
      "884:\tlearn: 0.4356823\ttotal: 21.5s\tremaining: 2.8s\n",
      "885:\tlearn: 0.4356511\ttotal: 21.5s\tremaining: 2.77s\n",
      "886:\tlearn: 0.4356241\ttotal: 21.6s\tremaining: 2.75s\n",
      "887:\tlearn: 0.4355914\ttotal: 21.6s\tremaining: 2.72s\n",
      "888:\tlearn: 0.4355537\ttotal: 21.6s\tremaining: 2.69s\n",
      "889:\tlearn: 0.4355138\ttotal: 21.6s\tremaining: 2.67s\n",
      "890:\tlearn: 0.4354838\ttotal: 21.6s\tremaining: 2.64s\n",
      "891:\tlearn: 0.4354501\ttotal: 21.6s\tremaining: 2.62s\n",
      "892:\tlearn: 0.4354077\ttotal: 21.7s\tremaining: 2.6s\n",
      "893:\tlearn: 0.4353744\ttotal: 21.7s\tremaining: 2.57s\n",
      "894:\tlearn: 0.4353345\ttotal: 21.7s\tremaining: 2.54s\n",
      "895:\tlearn: 0.4352870\ttotal: 21.7s\tremaining: 2.52s\n",
      "896:\tlearn: 0.4352420\ttotal: 21.7s\tremaining: 2.5s\n",
      "897:\tlearn: 0.4352056\ttotal: 21.8s\tremaining: 2.47s\n",
      "898:\tlearn: 0.4351803\ttotal: 21.8s\tremaining: 2.44s\n",
      "899:\tlearn: 0.4351354\ttotal: 21.8s\tremaining: 2.42s\n",
      "900:\tlearn: 0.4351047\ttotal: 21.8s\tremaining: 2.4s\n",
      "901:\tlearn: 0.4350790\ttotal: 21.8s\tremaining: 2.37s\n",
      "902:\tlearn: 0.4350430\ttotal: 21.8s\tremaining: 2.35s\n",
      "903:\tlearn: 0.4350025\ttotal: 21.9s\tremaining: 2.32s\n",
      "904:\tlearn: 0.4349543\ttotal: 21.9s\tremaining: 2.3s\n",
      "905:\tlearn: 0.4349145\ttotal: 21.9s\tremaining: 2.27s\n",
      "906:\tlearn: 0.4348905\ttotal: 21.9s\tremaining: 2.25s\n",
      "907:\tlearn: 0.4348651\ttotal: 21.9s\tremaining: 2.22s\n",
      "908:\tlearn: 0.4348179\ttotal: 21.9s\tremaining: 2.2s\n",
      "909:\tlearn: 0.4347791\ttotal: 22s\tremaining: 2.17s\n",
      "910:\tlearn: 0.4347395\ttotal: 22s\tremaining: 2.15s\n",
      "911:\tlearn: 0.4347047\ttotal: 22.1s\tremaining: 2.13s\n",
      "912:\tlearn: 0.4346630\ttotal: 22.1s\tremaining: 2.1s\n",
      "913:\tlearn: 0.4346180\ttotal: 22.1s\tremaining: 2.08s\n",
      "914:\tlearn: 0.4345788\ttotal: 22.1s\tremaining: 2.06s\n",
      "915:\tlearn: 0.4345422\ttotal: 22.1s\tremaining: 2.03s\n",
      "916:\tlearn: 0.4345149\ttotal: 22.2s\tremaining: 2.01s\n",
      "917:\tlearn: 0.4344706\ttotal: 22.2s\tremaining: 1.98s\n",
      "918:\tlearn: 0.4344377\ttotal: 22.2s\tremaining: 1.96s\n",
      "919:\tlearn: 0.4343996\ttotal: 22.2s\tremaining: 1.93s\n",
      "920:\tlearn: 0.4343670\ttotal: 22.3s\tremaining: 1.91s\n",
      "921:\tlearn: 0.4343383\ttotal: 22.3s\tremaining: 1.88s\n",
      "922:\tlearn: 0.4342892\ttotal: 22.3s\tremaining: 1.86s\n",
      "923:\tlearn: 0.4342500\ttotal: 22.3s\tremaining: 1.84s\n",
      "924:\tlearn: 0.4342110\ttotal: 22.4s\tremaining: 1.81s\n",
      "925:\tlearn: 0.4341693\ttotal: 22.4s\tremaining: 1.79s\n",
      "926:\tlearn: 0.4341209\ttotal: 22.4s\tremaining: 1.77s\n",
      "927:\tlearn: 0.4340676\ttotal: 22.5s\tremaining: 1.74s\n",
      "928:\tlearn: 0.4340248\ttotal: 22.5s\tremaining: 1.72s\n",
      "929:\tlearn: 0.4339800\ttotal: 22.5s\tremaining: 1.69s\n",
      "930:\tlearn: 0.4339439\ttotal: 22.5s\tremaining: 1.67s\n",
      "931:\tlearn: 0.4338950\ttotal: 22.6s\tremaining: 1.65s\n",
      "932:\tlearn: 0.4338502\ttotal: 22.6s\tremaining: 1.62s\n",
      "933:\tlearn: 0.4338141\ttotal: 22.6s\tremaining: 1.6s\n",
      "934:\tlearn: 0.4337741\ttotal: 22.7s\tremaining: 1.58s\n",
      "935:\tlearn: 0.4337396\ttotal: 22.7s\tremaining: 1.55s\n",
      "936:\tlearn: 0.4336953\ttotal: 22.7s\tremaining: 1.53s\n",
      "937:\tlearn: 0.4336597\ttotal: 22.8s\tremaining: 1.5s\n",
      "938:\tlearn: 0.4336166\ttotal: 22.8s\tremaining: 1.48s\n",
      "939:\tlearn: 0.4335785\ttotal: 22.8s\tremaining: 1.46s\n",
      "940:\tlearn: 0.4335518\ttotal: 22.8s\tremaining: 1.43s\n",
      "941:\tlearn: 0.4335061\ttotal: 22.8s\tremaining: 1.41s\n",
      "942:\tlearn: 0.4334682\ttotal: 22.9s\tremaining: 1.38s\n",
      "943:\tlearn: 0.4334437\ttotal: 22.9s\tremaining: 1.36s\n",
      "944:\tlearn: 0.4334165\ttotal: 22.9s\tremaining: 1.33s\n",
      "945:\tlearn: 0.4333702\ttotal: 22.9s\tremaining: 1.31s\n",
      "946:\tlearn: 0.4333411\ttotal: 22.9s\tremaining: 1.28s\n",
      "947:\tlearn: 0.4333074\ttotal: 22.9s\tremaining: 1.26s\n",
      "948:\tlearn: 0.4332683\ttotal: 23s\tremaining: 1.23s\n",
      "949:\tlearn: 0.4332413\ttotal: 23s\tremaining: 1.21s\n",
      "950:\tlearn: 0.4332018\ttotal: 23s\tremaining: 1.19s\n",
      "951:\tlearn: 0.4331524\ttotal: 23s\tremaining: 1.16s\n",
      "952:\tlearn: 0.4331058\ttotal: 23s\tremaining: 1.14s\n",
      "953:\tlearn: 0.4330661\ttotal: 23.1s\tremaining: 1.11s\n",
      "954:\tlearn: 0.4330373\ttotal: 23.1s\tremaining: 1.09s\n",
      "955:\tlearn: 0.4330008\ttotal: 23.1s\tremaining: 1.06s\n",
      "956:\tlearn: 0.4329680\ttotal: 23.1s\tremaining: 1.04s\n",
      "957:\tlearn: 0.4329452\ttotal: 23.1s\tremaining: 1.01s\n",
      "958:\tlearn: 0.4329013\ttotal: 23.1s\tremaining: 990ms\n",
      "959:\tlearn: 0.4328665\ttotal: 23.2s\tremaining: 966ms\n",
      "960:\tlearn: 0.4328212\ttotal: 23.2s\tremaining: 941ms\n",
      "961:\tlearn: 0.4327930\ttotal: 23.2s\tremaining: 917ms\n",
      "962:\tlearn: 0.4327586\ttotal: 23.2s\tremaining: 892ms\n",
      "963:\tlearn: 0.4327204\ttotal: 23.2s\tremaining: 868ms\n",
      "964:\tlearn: 0.4327023\ttotal: 23.3s\tremaining: 844ms\n",
      "965:\tlearn: 0.4326671\ttotal: 23.3s\tremaining: 819ms\n",
      "966:\tlearn: 0.4326414\ttotal: 23.3s\tremaining: 795ms\n",
      "967:\tlearn: 0.4325943\ttotal: 23.3s\tremaining: 771ms\n",
      "968:\tlearn: 0.4325440\ttotal: 23.3s\tremaining: 747ms\n",
      "969:\tlearn: 0.4324970\ttotal: 23.4s\tremaining: 723ms\n",
      "970:\tlearn: 0.4324637\ttotal: 23.4s\tremaining: 698ms\n",
      "971:\tlearn: 0.4324032\ttotal: 23.4s\tremaining: 674ms\n",
      "972:\tlearn: 0.4323634\ttotal: 23.4s\tremaining: 650ms\n",
      "973:\tlearn: 0.4323375\ttotal: 23.4s\tremaining: 626ms\n",
      "974:\tlearn: 0.4323016\ttotal: 23.5s\tremaining: 601ms\n",
      "975:\tlearn: 0.4322807\ttotal: 23.5s\tremaining: 577ms\n",
      "976:\tlearn: 0.4322354\ttotal: 23.5s\tremaining: 553ms\n",
      "977:\tlearn: 0.4321887\ttotal: 23.5s\tremaining: 529ms\n",
      "978:\tlearn: 0.4321439\ttotal: 23.5s\tremaining: 505ms\n",
      "979:\tlearn: 0.4321161\ttotal: 23.5s\tremaining: 481ms\n",
      "980:\tlearn: 0.4320906\ttotal: 23.6s\tremaining: 457ms\n",
      "981:\tlearn: 0.4320639\ttotal: 23.6s\tremaining: 433ms\n",
      "982:\tlearn: 0.4320206\ttotal: 23.6s\tremaining: 409ms\n",
      "983:\tlearn: 0.4319916\ttotal: 23.7s\tremaining: 385ms\n",
      "984:\tlearn: 0.4319515\ttotal: 23.7s\tremaining: 361ms\n",
      "985:\tlearn: 0.4318987\ttotal: 23.7s\tremaining: 337ms\n",
      "986:\tlearn: 0.4318563\ttotal: 23.7s\tremaining: 312ms\n",
      "987:\tlearn: 0.4318073\ttotal: 23.7s\tremaining: 288ms\n",
      "988:\tlearn: 0.4317750\ttotal: 23.8s\tremaining: 264ms\n",
      "989:\tlearn: 0.4317490\ttotal: 23.8s\tremaining: 240ms\n",
      "990:\tlearn: 0.4317127\ttotal: 23.8s\tremaining: 216ms\n",
      "991:\tlearn: 0.4316717\ttotal: 23.8s\tremaining: 192ms\n",
      "992:\tlearn: 0.4316490\ttotal: 23.8s\tremaining: 168ms\n",
      "993:\tlearn: 0.4316109\ttotal: 23.8s\tremaining: 144ms\n",
      "994:\tlearn: 0.4315882\ttotal: 23.9s\tremaining: 120ms\n",
      "995:\tlearn: 0.4315465\ttotal: 23.9s\tremaining: 96ms\n",
      "996:\tlearn: 0.4315223\ttotal: 23.9s\tremaining: 72ms\n",
      "997:\tlearn: 0.4315009\ttotal: 24s\tremaining: 48ms\n",
      "998:\tlearn: 0.4314741\ttotal: 24s\tremaining: 24ms\n",
      "999:\tlearn: 0.4314338\ttotal: 24s\tremaining: 0us\n"
     ]
    },
    {
     "data": {
      "text/plain": [
       "<catboost.core.CatBoostClassifier at 0x1a1b7829310>"
      ]
     },
     "execution_count": 89,
     "metadata": {},
     "output_type": "execute_result"
    }
   ],
   "source": [
    "model6.fit(x_train,y_train)"
   ]
  },
  {
   "cell_type": "code",
   "execution_count": 105,
   "id": "57da2e16",
   "metadata": {},
   "outputs": [],
   "source": [
    "y_pred6 = model6.predict(x_test)"
   ]
  },
  {
   "cell_type": "code",
   "execution_count": 106,
   "id": "7838e6bb",
   "metadata": {},
   "outputs": [
    {
     "data": {
      "text/plain": [
       "80.59857142857143"
      ]
     },
     "execution_count": 106,
     "metadata": {},
     "output_type": "execute_result"
    }
   ],
   "source": [
    "model6.score(x_train,y_train)*100"
   ]
  },
  {
   "cell_type": "code",
   "execution_count": 107,
   "id": "a8633d35",
   "metadata": {},
   "outputs": [
    {
     "data": {
      "text/plain": [
       "77.45"
      ]
     },
     "execution_count": 107,
     "metadata": {},
     "output_type": "execute_result"
    }
   ],
   "source": [
    "accuracy_score(y_test,y_pred6)*100"
   ]
  },
  {
   "cell_type": "code",
   "execution_count": 108,
   "id": "8465d97c",
   "metadata": {},
   "outputs": [
    {
     "data": {
      "text/plain": [
       "array([[13912,  3301],\n",
       "       [ 3464,  9323]], dtype=int64)"
      ]
     },
     "execution_count": 108,
     "metadata": {},
     "output_type": "execute_result"
    }
   ],
   "source": [
    "cf6=confusion_matrix(y_test,y_pred6)\n",
    "cf6"
   ]
  },
  {
   "cell_type": "code",
   "execution_count": 109,
   "id": "94c38f4c",
   "metadata": {},
   "outputs": [],
   "source": [
    "import lightgbm as lgbm"
   ]
  },
  {
   "cell_type": "code",
   "execution_count": 110,
   "id": "e545dc9b",
   "metadata": {},
   "outputs": [],
   "source": [
    "model7 = lgbm.LGBMClassifier()"
   ]
  },
  {
   "cell_type": "code",
   "execution_count": 111,
   "id": "d214c9e4",
   "metadata": {},
   "outputs": [
    {
     "name": "stderr",
     "output_type": "stream",
     "text": [
      "C:\\Users\\hp\\anaconda3\\lib\\site-packages\\sklearn\\utils\\validation.py:63: DataConversionWarning: A column-vector y was passed when a 1d array was expected. Please change the shape of y to (n_samples, ), for example using ravel().\n",
      "  return f(*args, **kwargs)\n"
     ]
    },
    {
     "data": {
      "text/plain": [
       "LGBMClassifier()"
      ]
     },
     "execution_count": 111,
     "metadata": {},
     "output_type": "execute_result"
    }
   ],
   "source": [
    "model7.fit(x_train,y_train)"
   ]
  },
  {
   "cell_type": "code",
   "execution_count": 112,
   "id": "1b356eed",
   "metadata": {},
   "outputs": [],
   "source": [
    "y_pred7 = model7.predict(x_test)"
   ]
  },
  {
   "cell_type": "code",
   "execution_count": 113,
   "id": "f688e051",
   "metadata": {},
   "outputs": [
    {
     "data": {
      "text/plain": [
       "77.52333333333333"
      ]
     },
     "execution_count": 113,
     "metadata": {},
     "output_type": "execute_result"
    }
   ],
   "source": [
    "accuracy_score(y_test,y_pred7)*100\n"
   ]
  },
  {
   "cell_type": "code",
   "execution_count": 114,
   "id": "659b613e",
   "metadata": {},
   "outputs": [
    {
     "data": {
      "text/plain": [
       "78.78857142857143"
      ]
     },
     "execution_count": 114,
     "metadata": {},
     "output_type": "execute_result"
    }
   ],
   "source": [
    "model7.score(x_train,y_train)*100"
   ]
  },
  {
   "cell_type": "code",
   "execution_count": 115,
   "id": "1f36debf",
   "metadata": {},
   "outputs": [
    {
     "data": {
      "text/plain": [
       "array([[13970,  3243],\n",
       "       [ 3500,  9287]], dtype=int64)"
      ]
     },
     "execution_count": 115,
     "metadata": {},
     "output_type": "execute_result"
    }
   ],
   "source": [
    "cf7=confusion_matrix(y_test,y_pred7)\n",
    "cf7"
   ]
  },
  {
   "cell_type": "code",
   "execution_count": 116,
   "id": "fb0bc467",
   "metadata": {},
   "outputs": [
    {
     "ename": "SyntaxError",
     "evalue": "invalid syntax (Temp/ipykernel_14652/3617133495.py, line 1)",
     "output_type": "error",
     "traceback": [
      "\u001b[1;36m  File \u001b[1;32m\"C:\\Users\\hp\\AppData\\Local\\Temp/ipykernel_14652/3617133495.py\"\u001b[1;36m, line \u001b[1;32m1\u001b[0m\n\u001b[1;33m    import sklearn.ensemble from baggingClassifier\u001b[0m\n\u001b[1;37m                            ^\u001b[0m\n\u001b[1;31mSyntaxError\u001b[0m\u001b[1;31m:\u001b[0m invalid syntax\n"
     ]
    }
   ],
   "source": [
    "import sklearn.ensemble from baggingClassifier"
   ]
  },
  {
   "cell_type": "code",
   "execution_count": null,
   "id": "45fd6181",
   "metadata": {},
   "outputs": [],
   "source": []
  }
 ],
 "metadata": {
  "kernelspec": {
   "display_name": "Python 3 (ipykernel)",
   "language": "python",
   "name": "python3"
  },
  "language_info": {
   "codemirror_mode": {
    "name": "ipython",
    "version": 3
   },
   "file_extension": ".py",
   "mimetype": "text/x-python",
   "name": "python",
   "nbconvert_exporter": "python",
   "pygments_lexer": "ipython3",
   "version": "3.9.12"
  }
 },
 "nbformat": 4,
 "nbformat_minor": 5
}
